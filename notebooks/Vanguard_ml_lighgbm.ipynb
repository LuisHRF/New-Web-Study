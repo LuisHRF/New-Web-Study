{
 "cells": [
  {
   "cell_type": "code",
   "execution_count": 4,
   "metadata": {},
   "outputs": [
    {
     "name": "stderr",
     "output_type": "stream",
     "text": [
      "C:\\Users\\VSPC\\AppData\\Local\\Temp\\ipykernel_116\\3465439301.py:22: SettingWithCopyWarning: \n",
      "A value is trying to be set on a copy of a slice from a DataFrame.\n",
      "Try using .loc[row_indexer,col_indexer] = value instead\n",
      "\n",
      "See the caveats in the documentation: https://pandas.pydata.org/pandas-docs/stable/user_guide/indexing.html#returning-a-view-versus-a-copy\n",
      "  final_data_clean['Variation'] = label_encoder.fit_transform(final_data_clean['Variation'])\n"
     ]
    },
    {
     "ename": "TypeError",
     "evalue": "LGBMClassifier.fit() got an unexpected keyword argument 'early_stopping_rounds'",
     "output_type": "error",
     "traceback": [
      "\u001b[1;31m---------------------------------------------------------------------------\u001b[0m",
      "\u001b[1;31mTypeError\u001b[0m                                 Traceback (most recent call last)",
      "Cell \u001b[1;32mIn[4], line 42\u001b[0m\n\u001b[0;32m     32\u001b[0m lgb_model \u001b[38;5;241m=\u001b[39m lgb\u001b[38;5;241m.\u001b[39mLGBMClassifier(\n\u001b[0;32m     33\u001b[0m     objective\u001b[38;5;241m=\u001b[39m\u001b[38;5;124m'\u001b[39m\u001b[38;5;124mbinary\u001b[39m\u001b[38;5;124m'\u001b[39m,\n\u001b[0;32m     34\u001b[0m     is_unbalance\u001b[38;5;241m=\u001b[39m\u001b[38;5;28;01mTrue\u001b[39;00m,\n\u001b[1;32m   (...)\u001b[0m\n\u001b[0;32m     38\u001b[0m     n_estimators\u001b[38;5;241m=\u001b[39m\u001b[38;5;241m100\u001b[39m\n\u001b[0;32m     39\u001b[0m )\n\u001b[0;32m     41\u001b[0m \u001b[38;5;66;03m# Entrenar el modelo con early stopping\u001b[39;00m\n\u001b[1;32m---> 42\u001b[0m \u001b[43mlgb_model\u001b[49m\u001b[38;5;241;43m.\u001b[39;49m\u001b[43mfit\u001b[49m\u001b[43m(\u001b[49m\n\u001b[0;32m     43\u001b[0m \u001b[43m    \u001b[49m\u001b[43mX_train\u001b[49m\u001b[43m,\u001b[49m\u001b[43m \u001b[49m\u001b[43my_train\u001b[49m\u001b[43m,\u001b[49m\n\u001b[0;32m     44\u001b[0m \u001b[43m    \u001b[49m\u001b[43meval_set\u001b[49m\u001b[38;5;241;43m=\u001b[39;49m\u001b[43m[\u001b[49m\u001b[43m(\u001b[49m\u001b[43mX_test\u001b[49m\u001b[43m,\u001b[49m\u001b[43m \u001b[49m\u001b[43my_test\u001b[49m\u001b[43m)\u001b[49m\u001b[43m]\u001b[49m\u001b[43m,\u001b[49m\n\u001b[0;32m     45\u001b[0m \u001b[43m    \u001b[49m\u001b[43meval_metric\u001b[49m\u001b[38;5;241;43m=\u001b[39;49m\u001b[38;5;124;43m'\u001b[39;49m\u001b[38;5;124;43mlogloss\u001b[39;49m\u001b[38;5;124;43m'\u001b[39;49m\u001b[43m,\u001b[49m\n\u001b[0;32m     46\u001b[0m \u001b[43m    \u001b[49m\u001b[43mearly_stopping_rounds\u001b[49m\u001b[38;5;241;43m=\u001b[39;49m\u001b[38;5;241;43m10\u001b[39;49m\n\u001b[0;32m     47\u001b[0m \u001b[43m)\u001b[49m\n\u001b[0;32m     49\u001b[0m \u001b[38;5;66;03m# Hacer predicciones\u001b[39;00m\n\u001b[0;32m     50\u001b[0m y_pred_lgb \u001b[38;5;241m=\u001b[39m lgb_model\u001b[38;5;241m.\u001b[39mpredict(X_test)\n",
      "\u001b[1;31mTypeError\u001b[0m: LGBMClassifier.fit() got an unexpected keyword argument 'early_stopping_rounds'"
     ]
    }
   ],
   "source": [
    "import pandas as pd\n",
    "from sklearn.model_selection import train_test_split, GridSearchCV\n",
    "from sklearn.preprocessing import LabelEncoder\n",
    "import lightgbm as lgb\n",
    "from sklearn.metrics import accuracy_score\n",
    "\n",
    "# Cargar los datasets\n",
    "df_final_demo_cleanead = pd.read_csv(r'C:\\Users\\VSPC\\Documents\\GitHub\\New-Web-Study\\data\\df_final_demo_cleanead.csv')\n",
    "df_web_data_total = pd.read_csv(r'C:\\Users\\VSPC\\Documents\\GitHub\\New-Web-Study\\data\\df_web_data_total.csv')\n",
    "df_final_experiment_clients_1 = pd.read_csv(r'C:\\Users\\VSPC\\Documents\\GitHub\\New-Web-Study\\data\\raw\\df_final_experiment_clients.txt')\n",
    "\n",
    "# Merging the demo and web data on client_id\n",
    "merged_data = pd.merge(df_final_demo_cleanead, df_web_data_total, on='client_id', how='inner')\n",
    "\n",
    "# Merging the experiment clients data to add the target variable 'Variation'\n",
    "final_data = pd.merge(merged_data, df_final_experiment_clients_1, on='client_id', how='left')\n",
    "\n",
    "# Dropping rows where 'Variation' is NaN\n",
    "final_data_clean = final_data.dropna(subset=['Variation'])\n",
    "\n",
    "label_encoder = LabelEncoder()\n",
    "final_data_clean['Variation'] = label_encoder.fit_transform(final_data_clean['Variation'])\n",
    "\n",
    "# Definir las características (X) y el objetivo (y)\n",
    "X = final_data_clean.drop(columns=['Variation', 'client_id', 'visitor_id', 'visit_id', 'date_time', 'date', 'time'])\n",
    "y = final_data_clean['Variation']\n",
    "\n",
    "# Dividir los datos en conjunto de entrenamiento y prueba\n",
    "X_train, X_test, y_train, y_test = train_test_split(X, y, test_size=0.2, random_state=42)\n",
    "\n",
    "# Crear el modelo LGBMClassifier\n",
    "lgb_model = lgb.LGBMClassifier(\n",
    "    objective='binary',\n",
    "    is_unbalance=True,\n",
    "    num_leaves=31,\n",
    "    learning_rate=0.05,\n",
    "    feature_fraction=0.9,\n",
    "    n_estimators=100\n",
    ")\n",
    "\n",
    "# Entrenar el modelo con early stopping\n",
    "lgb_model.fit(\n",
    "    X_train, y_train,\n",
    "    eval_set=[(X_test, y_test)],\n",
    "    eval_metric='logloss',\n",
    "    early_stopping_rounds=10\n",
    ")\n",
    "\n",
    "# Hacer predicciones\n",
    "y_pred_lgb = lgb_model.predict(X_test)\n",
    "\n",
    "# Calcular la precisión\n",
    "accuracy_lgb = accuracy_score(y_test, y_pred_lgb)\n",
    "\n",
    "print(f\"Precisión del modelo LightGBM: {accuracy_lgb}\")\n"
   ]
  }
 ],
 "metadata": {
  "kernelspec": {
   "display_name": "env",
   "language": "python",
   "name": "python3"
  },
  "language_info": {
   "codemirror_mode": {
    "name": "ipython",
    "version": 3
   },
   "file_extension": ".py",
   "mimetype": "text/x-python",
   "name": "python",
   "nbconvert_exporter": "python",
   "pygments_lexer": "ipython3",
   "version": "3.10.11"
  }
 },
 "nbformat": 4,
 "nbformat_minor": 2
}
