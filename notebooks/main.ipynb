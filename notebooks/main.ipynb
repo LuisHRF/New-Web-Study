{
 "cells": [
  {
   "cell_type": "code",
   "execution_count": 1,
   "metadata": {},
   "outputs": [],
   "source": [
    "import pandas as pd\n",
    "import matplotlib.pyplot as plt\n",
    "import numpy as np\n",
    "import seaborn as sns\n",
    "from functions import *"
   ]
  },
  {
   "cell_type": "markdown",
   "metadata": {},
   "source": [
    "# Data Exploration (and Cleaning)"
   ]
  },
  {
   "cell_type": "code",
   "execution_count": 2,
   "metadata": {},
   "outputs": [],
   "source": [
    "url1 = r'C:\\Users\\VSPC\\Documents\\GitHub\\New-Web-Study\\data\\raw\\df_final_demo.txt'\n",
    "url2 = r'C:\\Users\\VSPC\\Documents\\GitHub\\New-Web-Study\\data\\raw\\df_final_experiment_clients.txt'\n",
    "url3 = r'C:\\Users\\VSPC\\Documents\\GitHub\\New-Web-Study\\data\\raw\\df_final_web_data_pt_1.txt'\n",
    "url4 = r'C:\\Users\\VSPC\\Documents\\GitHub\\New-Web-Study\\data\\raw\\df_final_web_data_pt_2.txt'\n",
    "\n",
    "df_final_demo = pd.read_csv(url1)\n",
    "df_final_experiment_clients = pd.read_csv(url2)\n",
    "df_web_data_1 = pd.read_csv(url3)\n",
    "df_web_data_2 = pd.read_csv(url4)"
   ]
  },
  {
   "cell_type": "markdown",
   "metadata": {},
   "source": [
    "### Check df_final_experiment_clients"
   ]
  },
  {
   "cell_type": "code",
   "execution_count": 3,
   "metadata": {},
   "outputs": [
    {
     "name": "stdout",
     "output_type": "stream",
     "text": [
      "Number of columns -> 2\n",
      "Number of rows -> 70609\n",
      "Number of duplicates -> 0\n"
     ]
    },
    {
     "data": {
      "text/html": [
       "<div>\n",
       "<style scoped>\n",
       "    .dataframe tbody tr th:only-of-type {\n",
       "        vertical-align: middle;\n",
       "    }\n",
       "\n",
       "    .dataframe tbody tr th {\n",
       "        vertical-align: top;\n",
       "    }\n",
       "\n",
       "    .dataframe thead th {\n",
       "        text-align: right;\n",
       "    }\n",
       "</style>\n",
       "<table border=\"1\" class=\"dataframe\">\n",
       "  <thead>\n",
       "    <tr style=\"text-align: right;\">\n",
       "      <th></th>\n",
       "      <th>Column</th>\n",
       "      <th>Data Type</th>\n",
       "      <th>Values Count</th>\n",
       "      <th>Null Values</th>\n",
       "      <th>Unique Values</th>\n",
       "    </tr>\n",
       "  </thead>\n",
       "  <tbody>\n",
       "    <tr>\n",
       "      <th>client_id</th>\n",
       "      <td>client_id</td>\n",
       "      <td>int64</td>\n",
       "      <td>70609</td>\n",
       "      <td>0</td>\n",
       "      <td>70609</td>\n",
       "    </tr>\n",
       "    <tr>\n",
       "      <th>Variation</th>\n",
       "      <td>Variation</td>\n",
       "      <td>object</td>\n",
       "      <td>50500</td>\n",
       "      <td>20109</td>\n",
       "      <td>2</td>\n",
       "    </tr>\n",
       "  </tbody>\n",
       "</table>\n",
       "</div>"
      ],
      "text/plain": [
       "              Column Data Type  Values Count  Null Values  Unique Values\n",
       "client_id  client_id     int64         70609            0          70609\n",
       "Variation  Variation    object         50500        20109              2"
      ]
     },
     "execution_count": 3,
     "metadata": {},
     "output_type": "execute_result"
    }
   ],
   "source": [
    "data_summary(df_final_experiment_clients)"
   ]
  },
  {
   "cell_type": "code",
   "execution_count": 4,
   "metadata": {},
   "outputs": [
    {
     "data": {
      "text/plain": [
       "{'Commons ID': 70609, 'Demo ID': 0, 'Exp ID': 0}"
      ]
     },
     "execution_count": 4,
     "metadata": {},
     "output_type": "execute_result"
    }
   ],
   "source": [
    "# Create list with client_id for compare each df\n",
    "\n",
    "list_id_final_demo = df_final_demo['client_id']\n",
    "\n",
    "list_id_final_exp = df_final_experiment_clients['client_id']\n",
    "\n",
    "common_clients_id = set(list_id_final_demo).intersection(set(list_id_final_exp))\n",
    "demo_clients_id = set(list_id_final_demo).difference(set(list_id_final_exp))\n",
    "exp_clients_id = set(list_id_final_exp).difference(set(list_id_final_demo))\n",
    "\n",
    "{\n",
    "    \"Commons ID\": len(common_clients_id),\n",
    "    \"Demo ID\": len(demo_clients_id),\n",
    "    \"Exp ID\": len(exp_clients_id)\n",
    "}"
   ]
  },
  {
   "cell_type": "markdown",
   "metadata": {},
   "source": [
    "After verifying that the NaNs are real customers, we apply a PCA on another file to create a clean dataframe"
   ]
  },
  {
   "cell_type": "code",
   "execution_count": 5,
   "metadata": {},
   "outputs": [],
   "source": [
    "url5 = r'C:\\Users\\VSPC\\Documents\\GitHub\\New-Web-Study\\data\\df_experiment_non_nan.csv'\n",
    "\n",
    "df_final_experiment_cleaned = pd.read_csv(url5)"
   ]
  },
  {
   "cell_type": "code",
   "execution_count": 6,
   "metadata": {},
   "outputs": [
    {
     "name": "stdout",
     "output_type": "stream",
     "text": [
      "Number of columns -> 2\n",
      "Number of rows -> 70609\n",
      "Number of duplicates -> 0\n"
     ]
    },
    {
     "data": {
      "text/html": [
       "<div>\n",
       "<style scoped>\n",
       "    .dataframe tbody tr th:only-of-type {\n",
       "        vertical-align: middle;\n",
       "    }\n",
       "\n",
       "    .dataframe tbody tr th {\n",
       "        vertical-align: top;\n",
       "    }\n",
       "\n",
       "    .dataframe thead th {\n",
       "        text-align: right;\n",
       "    }\n",
       "</style>\n",
       "<table border=\"1\" class=\"dataframe\">\n",
       "  <thead>\n",
       "    <tr style=\"text-align: right;\">\n",
       "      <th></th>\n",
       "      <th>Column</th>\n",
       "      <th>Data Type</th>\n",
       "      <th>Values Count</th>\n",
       "      <th>Null Values</th>\n",
       "      <th>Unique Values</th>\n",
       "    </tr>\n",
       "  </thead>\n",
       "  <tbody>\n",
       "    <tr>\n",
       "      <th>client_id</th>\n",
       "      <td>client_id</td>\n",
       "      <td>int64</td>\n",
       "      <td>70609</td>\n",
       "      <td>0</td>\n",
       "      <td>70609</td>\n",
       "    </tr>\n",
       "    <tr>\n",
       "      <th>Variation</th>\n",
       "      <td>Variation</td>\n",
       "      <td>object</td>\n",
       "      <td>70609</td>\n",
       "      <td>0</td>\n",
       "      <td>2</td>\n",
       "    </tr>\n",
       "  </tbody>\n",
       "</table>\n",
       "</div>"
      ],
      "text/plain": [
       "              Column Data Type  Values Count  Null Values  Unique Values\n",
       "client_id  client_id     int64         70609            0          70609\n",
       "Variation  Variation    object         70609            0              2"
      ]
     },
     "execution_count": 6,
     "metadata": {},
     "output_type": "execute_result"
    }
   ],
   "source": [
    "data_summary(df_final_experiment_cleaned)"
   ]
  },
  {
   "cell_type": "markdown",
   "metadata": {},
   "source": [
    "### Check df_final_demo"
   ]
  },
  {
   "cell_type": "code",
   "execution_count": 7,
   "metadata": {},
   "outputs": [
    {
     "name": "stdout",
     "output_type": "stream",
     "text": [
      "Number of columns -> 9\n",
      "Number of rows -> 70609\n",
      "Number of duplicates -> 0\n"
     ]
    },
    {
     "data": {
      "text/html": [
       "<div>\n",
       "<style scoped>\n",
       "    .dataframe tbody tr th:only-of-type {\n",
       "        vertical-align: middle;\n",
       "    }\n",
       "\n",
       "    .dataframe tbody tr th {\n",
       "        vertical-align: top;\n",
       "    }\n",
       "\n",
       "    .dataframe thead th {\n",
       "        text-align: right;\n",
       "    }\n",
       "</style>\n",
       "<table border=\"1\" class=\"dataframe\">\n",
       "  <thead>\n",
       "    <tr style=\"text-align: right;\">\n",
       "      <th></th>\n",
       "      <th>Column</th>\n",
       "      <th>Data Type</th>\n",
       "      <th>Values Count</th>\n",
       "      <th>Null Values</th>\n",
       "      <th>Unique Values</th>\n",
       "    </tr>\n",
       "  </thead>\n",
       "  <tbody>\n",
       "    <tr>\n",
       "      <th>client_id</th>\n",
       "      <td>client_id</td>\n",
       "      <td>int64</td>\n",
       "      <td>70609</td>\n",
       "      <td>0</td>\n",
       "      <td>70609</td>\n",
       "    </tr>\n",
       "    <tr>\n",
       "      <th>clnt_tenure_yr</th>\n",
       "      <td>clnt_tenure_yr</td>\n",
       "      <td>float64</td>\n",
       "      <td>70595</td>\n",
       "      <td>14</td>\n",
       "      <td>54</td>\n",
       "    </tr>\n",
       "    <tr>\n",
       "      <th>clnt_tenure_mnth</th>\n",
       "      <td>clnt_tenure_mnth</td>\n",
       "      <td>float64</td>\n",
       "      <td>70595</td>\n",
       "      <td>14</td>\n",
       "      <td>482</td>\n",
       "    </tr>\n",
       "    <tr>\n",
       "      <th>clnt_age</th>\n",
       "      <td>clnt_age</td>\n",
       "      <td>float64</td>\n",
       "      <td>70594</td>\n",
       "      <td>15</td>\n",
       "      <td>165</td>\n",
       "    </tr>\n",
       "    <tr>\n",
       "      <th>gendr</th>\n",
       "      <td>gendr</td>\n",
       "      <td>object</td>\n",
       "      <td>70595</td>\n",
       "      <td>14</td>\n",
       "      <td>4</td>\n",
       "    </tr>\n",
       "    <tr>\n",
       "      <th>num_accts</th>\n",
       "      <td>num_accts</td>\n",
       "      <td>float64</td>\n",
       "      <td>70595</td>\n",
       "      <td>14</td>\n",
       "      <td>8</td>\n",
       "    </tr>\n",
       "    <tr>\n",
       "      <th>bal</th>\n",
       "      <td>bal</td>\n",
       "      <td>float64</td>\n",
       "      <td>70595</td>\n",
       "      <td>14</td>\n",
       "      <td>70328</td>\n",
       "    </tr>\n",
       "    <tr>\n",
       "      <th>calls_6_mnth</th>\n",
       "      <td>calls_6_mnth</td>\n",
       "      <td>float64</td>\n",
       "      <td>70595</td>\n",
       "      <td>14</td>\n",
       "      <td>8</td>\n",
       "    </tr>\n",
       "    <tr>\n",
       "      <th>logons_6_mnth</th>\n",
       "      <td>logons_6_mnth</td>\n",
       "      <td>float64</td>\n",
       "      <td>70595</td>\n",
       "      <td>14</td>\n",
       "      <td>9</td>\n",
       "    </tr>\n",
       "  </tbody>\n",
       "</table>\n",
       "</div>"
      ],
      "text/plain": [
       "                            Column Data Type  Values Count  Null Values  \\\n",
       "client_id                client_id     int64         70609            0   \n",
       "clnt_tenure_yr      clnt_tenure_yr   float64         70595           14   \n",
       "clnt_tenure_mnth  clnt_tenure_mnth   float64         70595           14   \n",
       "clnt_age                  clnt_age   float64         70594           15   \n",
       "gendr                        gendr    object         70595           14   \n",
       "num_accts                num_accts   float64         70595           14   \n",
       "bal                            bal   float64         70595           14   \n",
       "calls_6_mnth          calls_6_mnth   float64         70595           14   \n",
       "logons_6_mnth        logons_6_mnth   float64         70595           14   \n",
       "\n",
       "                  Unique Values  \n",
       "client_id                 70609  \n",
       "clnt_tenure_yr               54  \n",
       "clnt_tenure_mnth            482  \n",
       "clnt_age                    165  \n",
       "gendr                         4  \n",
       "num_accts                     8  \n",
       "bal                       70328  \n",
       "calls_6_mnth                  8  \n",
       "logons_6_mnth                 9  "
      ]
     },
     "execution_count": 7,
     "metadata": {},
     "output_type": "execute_result"
    }
   ],
   "source": [
    "data_summary(df_final_demo)"
   ]
  },
  {
   "cell_type": "markdown",
   "metadata": {},
   "source": [
    "There is some Null/Missing Values in all the columns and not the correct type in client_id"
   ]
  },
  {
   "cell_type": "code",
   "execution_count": 8,
   "metadata": {},
   "outputs": [],
   "source": [
    "df_final_demo = rename_demo_columns(df_final_demo)\n",
    "\n",
    "df_final_demo['client_id'] = df_final_demo['client_id'].astype(str)"
   ]
  },
  {
   "cell_type": "code",
   "execution_count": 9,
   "metadata": {},
   "outputs": [
    {
     "data": {
      "text/plain": [
       "4164     7402828\n",
       "8316      355337\n",
       "8677     8412164\n",
       "9583     4666211\n",
       "13444    2222915\n",
       "18066    4876926\n",
       "25961    5277910\n",
       "28432    7616759\n",
       "35323    8191345\n",
       "43518    1227228\n",
       "46076    8611797\n",
       "47189    5144725\n",
       "49846    1037867\n",
       "63701    1618749\n",
       "66219    6021001\n",
       "Name: client_id, dtype: object"
      ]
     },
     "execution_count": 9,
     "metadata": {},
     "output_type": "execute_result"
    }
   ],
   "source": [
    "# Search the rows with at least one null\n",
    "\n",
    "null_id_demo = df_final_demo[df_final_demo.isna().any(axis=1)]\n",
    "\n",
    "null_id_demo['client_id'] # For save the client_id with Nulls"
   ]
  },
  {
   "cell_type": "code",
   "execution_count": 10,
   "metadata": {},
   "outputs": [
    {
     "data": {
      "text/html": [
       "<div>\n",
       "<style scoped>\n",
       "    .dataframe tbody tr th:only-of-type {\n",
       "        vertical-align: middle;\n",
       "    }\n",
       "\n",
       "    .dataframe tbody tr th {\n",
       "        vertical-align: top;\n",
       "    }\n",
       "\n",
       "    .dataframe thead th {\n",
       "        text-align: right;\n",
       "    }\n",
       "</style>\n",
       "<table border=\"1\" class=\"dataframe\">\n",
       "  <thead>\n",
       "    <tr style=\"text-align: right;\">\n",
       "      <th></th>\n",
       "      <th>client_id</th>\n",
       "      <th>seniority_per_years</th>\n",
       "      <th>seniority_per_months</th>\n",
       "      <th>age</th>\n",
       "      <th>gender</th>\n",
       "      <th>number_of_accounts</th>\n",
       "      <th>balance</th>\n",
       "      <th>calls_6_month</th>\n",
       "      <th>logons_6_month</th>\n",
       "    </tr>\n",
       "  </thead>\n",
       "  <tbody>\n",
       "    <tr>\n",
       "      <th>9583</th>\n",
       "      <td>4666211</td>\n",
       "      <td>8.0</td>\n",
       "      <td>106.0</td>\n",
       "      <td>NaN</td>\n",
       "      <td>F</td>\n",
       "      <td>2.0</td>\n",
       "      <td>42550.55</td>\n",
       "      <td>4.0</td>\n",
       "      <td>7.0</td>\n",
       "    </tr>\n",
       "  </tbody>\n",
       "</table>\n",
       "</div>"
      ],
      "text/plain": [
       "     client_id  seniority_per_years  seniority_per_months  age gender  \\\n",
       "9583   4666211                  8.0                 106.0  NaN      F   \n",
       "\n",
       "      number_of_accounts   balance  calls_6_month  logons_6_month  \n",
       "9583                 2.0  42550.55            4.0             7.0  "
      ]
     },
     "execution_count": 10,
     "metadata": {},
     "output_type": "execute_result"
    }
   ],
   "source": [
    "df_final_demo_drop_nulls = df_final_demo.dropna(thresh=2)\n",
    "\n",
    "df_final_demo_drop_nulls[df_final_demo_drop_nulls.isna().any(axis=1)]"
   ]
  },
  {
   "cell_type": "code",
   "execution_count": 11,
   "metadata": {},
   "outputs": [
    {
     "name": "stdout",
     "output_type": "stream",
     "text": [
      "Number of columns -> 9\n",
      "Number of rows -> 70595\n",
      "Number of duplicates -> 0\n"
     ]
    },
    {
     "name": "stderr",
     "output_type": "stream",
     "text": [
      "C:\\Users\\VSPC\\AppData\\Local\\Temp\\ipykernel_19668\\1219698369.py:3: SettingWithCopyWarning: \n",
      "A value is trying to be set on a copy of a slice from a DataFrame.\n",
      "Try using .loc[row_indexer,col_indexer] = value instead\n",
      "\n",
      "See the caveats in the documentation: https://pandas.pydata.org/pandas-docs/stable/user_guide/indexing.html#returning-a-view-versus-a-copy\n",
      "  df_final_demo_drop_nulls['age'] = df_final_demo_drop_nulls['age'].fillna(df_final_demo_drop_nulls['age'].mean())\n"
     ]
    },
    {
     "data": {
      "text/html": [
       "<div>\n",
       "<style scoped>\n",
       "    .dataframe tbody tr th:only-of-type {\n",
       "        vertical-align: middle;\n",
       "    }\n",
       "\n",
       "    .dataframe tbody tr th {\n",
       "        vertical-align: top;\n",
       "    }\n",
       "\n",
       "    .dataframe thead th {\n",
       "        text-align: right;\n",
       "    }\n",
       "</style>\n",
       "<table border=\"1\" class=\"dataframe\">\n",
       "  <thead>\n",
       "    <tr style=\"text-align: right;\">\n",
       "      <th></th>\n",
       "      <th>Column</th>\n",
       "      <th>Data Type</th>\n",
       "      <th>Values Count</th>\n",
       "      <th>Null Values</th>\n",
       "      <th>Unique Values</th>\n",
       "    </tr>\n",
       "  </thead>\n",
       "  <tbody>\n",
       "    <tr>\n",
       "      <th>client_id</th>\n",
       "      <td>client_id</td>\n",
       "      <td>object</td>\n",
       "      <td>70595</td>\n",
       "      <td>0</td>\n",
       "      <td>70595</td>\n",
       "    </tr>\n",
       "    <tr>\n",
       "      <th>seniority_per_years</th>\n",
       "      <td>seniority_per_years</td>\n",
       "      <td>float64</td>\n",
       "      <td>70595</td>\n",
       "      <td>0</td>\n",
       "      <td>54</td>\n",
       "    </tr>\n",
       "    <tr>\n",
       "      <th>seniority_per_months</th>\n",
       "      <td>seniority_per_months</td>\n",
       "      <td>float64</td>\n",
       "      <td>70595</td>\n",
       "      <td>0</td>\n",
       "      <td>482</td>\n",
       "    </tr>\n",
       "    <tr>\n",
       "      <th>age</th>\n",
       "      <td>age</td>\n",
       "      <td>float64</td>\n",
       "      <td>70595</td>\n",
       "      <td>0</td>\n",
       "      <td>166</td>\n",
       "    </tr>\n",
       "    <tr>\n",
       "      <th>gender</th>\n",
       "      <td>gender</td>\n",
       "      <td>object</td>\n",
       "      <td>70595</td>\n",
       "      <td>0</td>\n",
       "      <td>4</td>\n",
       "    </tr>\n",
       "    <tr>\n",
       "      <th>number_of_accounts</th>\n",
       "      <td>number_of_accounts</td>\n",
       "      <td>float64</td>\n",
       "      <td>70595</td>\n",
       "      <td>0</td>\n",
       "      <td>8</td>\n",
       "    </tr>\n",
       "    <tr>\n",
       "      <th>balance</th>\n",
       "      <td>balance</td>\n",
       "      <td>float64</td>\n",
       "      <td>70595</td>\n",
       "      <td>0</td>\n",
       "      <td>70328</td>\n",
       "    </tr>\n",
       "    <tr>\n",
       "      <th>calls_6_month</th>\n",
       "      <td>calls_6_month</td>\n",
       "      <td>float64</td>\n",
       "      <td>70595</td>\n",
       "      <td>0</td>\n",
       "      <td>8</td>\n",
       "    </tr>\n",
       "    <tr>\n",
       "      <th>logons_6_month</th>\n",
       "      <td>logons_6_month</td>\n",
       "      <td>float64</td>\n",
       "      <td>70595</td>\n",
       "      <td>0</td>\n",
       "      <td>9</td>\n",
       "    </tr>\n",
       "  </tbody>\n",
       "</table>\n",
       "</div>"
      ],
      "text/plain": [
       "                                    Column Data Type  Values Count  \\\n",
       "client_id                        client_id    object         70595   \n",
       "seniority_per_years    seniority_per_years   float64         70595   \n",
       "seniority_per_months  seniority_per_months   float64         70595   \n",
       "age                                    age   float64         70595   \n",
       "gender                              gender    object         70595   \n",
       "number_of_accounts      number_of_accounts   float64         70595   \n",
       "balance                            balance   float64         70595   \n",
       "calls_6_month                calls_6_month   float64         70595   \n",
       "logons_6_month              logons_6_month   float64         70595   \n",
       "\n",
       "                      Null Values  Unique Values  \n",
       "client_id                       0          70595  \n",
       "seniority_per_years             0             54  \n",
       "seniority_per_months            0            482  \n",
       "age                             0            166  \n",
       "gender                          0              4  \n",
       "number_of_accounts              0              8  \n",
       "balance                         0          70328  \n",
       "calls_6_month                   0              8  \n",
       "logons_6_month                  0              9  "
      ]
     },
     "execution_count": 11,
     "metadata": {},
     "output_type": "execute_result"
    }
   ],
   "source": [
    "# Lets fill the NaN in age\n",
    "\n",
    "df_final_demo_drop_nulls['age'] = df_final_demo_drop_nulls['age'].fillna(df_final_demo_drop_nulls['age'].mean())\n",
    "\n",
    "data_summary(df_final_demo_drop_nulls)"
   ]
  },
  {
   "cell_type": "code",
   "execution_count": 12,
   "metadata": {},
   "outputs": [
    {
     "name": "stdout",
     "output_type": "stream",
     "text": [
      "File saved to: C:\\Users\\VSPC\\Documents\\GitHub\\New-Web-Study\\data/df_final_demo_cleanead.csv\n"
     ]
    }
   ],
   "source": [
    "# Create .csv cleaned\n",
    "\n",
    "folder_path = r'C:\\Users\\VSPC\\Documents\\GitHub\\New-Web-Study\\data'\n",
    "\n",
    "file_path = folder_path + \"/df_final_demo_cleanead.csv\"\n",
    "\n",
    "df_final_demo_drop_nulls.to_csv(file_path, index=False)\n",
    "\n",
    "print(f\"File saved to: {file_path}\")"
   ]
  },
  {
   "cell_type": "code",
   "execution_count": 13,
   "metadata": {},
   "outputs": [
    {
     "data": {
      "text/html": [
       "<div>\n",
       "<style scoped>\n",
       "    .dataframe tbody tr th:only-of-type {\n",
       "        vertical-align: middle;\n",
       "    }\n",
       "\n",
       "    .dataframe tbody tr th {\n",
       "        vertical-align: top;\n",
       "    }\n",
       "\n",
       "    .dataframe thead th {\n",
       "        text-align: right;\n",
       "    }\n",
       "</style>\n",
       "<table border=\"1\" class=\"dataframe\">\n",
       "  <thead>\n",
       "    <tr style=\"text-align: right;\">\n",
       "      <th></th>\n",
       "      <th>seniority_per_years</th>\n",
       "      <th>seniority_per_months</th>\n",
       "      <th>age</th>\n",
       "      <th>number_of_accounts</th>\n",
       "      <th>balance</th>\n",
       "      <th>calls_6_month</th>\n",
       "      <th>logons_6_month</th>\n",
       "    </tr>\n",
       "  </thead>\n",
       "  <tbody>\n",
       "    <tr>\n",
       "      <th>count</th>\n",
       "      <td>70595.000000</td>\n",
       "      <td>70595.000000</td>\n",
       "      <td>70595.000000</td>\n",
       "      <td>70595.000000</td>\n",
       "      <td>7.059500e+04</td>\n",
       "      <td>70595.000000</td>\n",
       "      <td>70595.000000</td>\n",
       "    </tr>\n",
       "    <tr>\n",
       "      <th>mean</th>\n",
       "      <td>12.052950</td>\n",
       "      <td>150.659367</td>\n",
       "      <td>46.442240</td>\n",
       "      <td>2.255528</td>\n",
       "      <td>1.474452e+05</td>\n",
       "      <td>3.382478</td>\n",
       "      <td>5.566740</td>\n",
       "    </tr>\n",
       "    <tr>\n",
       "      <th>std</th>\n",
       "      <td>6.871819</td>\n",
       "      <td>82.089854</td>\n",
       "      <td>15.591162</td>\n",
       "      <td>0.534997</td>\n",
       "      <td>3.015087e+05</td>\n",
       "      <td>2.236580</td>\n",
       "      <td>2.353286</td>\n",
       "    </tr>\n",
       "    <tr>\n",
       "      <th>min</th>\n",
       "      <td>2.000000</td>\n",
       "      <td>33.000000</td>\n",
       "      <td>13.500000</td>\n",
       "      <td>1.000000</td>\n",
       "      <td>1.378942e+04</td>\n",
       "      <td>0.000000</td>\n",
       "      <td>1.000000</td>\n",
       "    </tr>\n",
       "    <tr>\n",
       "      <th>25%</th>\n",
       "      <td>6.000000</td>\n",
       "      <td>82.000000</td>\n",
       "      <td>32.500000</td>\n",
       "      <td>2.000000</td>\n",
       "      <td>3.734683e+04</td>\n",
       "      <td>1.000000</td>\n",
       "      <td>4.000000</td>\n",
       "    </tr>\n",
       "    <tr>\n",
       "      <th>50%</th>\n",
       "      <td>11.000000</td>\n",
       "      <td>136.000000</td>\n",
       "      <td>47.000000</td>\n",
       "      <td>2.000000</td>\n",
       "      <td>6.333290e+04</td>\n",
       "      <td>3.000000</td>\n",
       "      <td>5.000000</td>\n",
       "    </tr>\n",
       "    <tr>\n",
       "      <th>75%</th>\n",
       "      <td>16.000000</td>\n",
       "      <td>192.000000</td>\n",
       "      <td>59.000000</td>\n",
       "      <td>2.000000</td>\n",
       "      <td>1.375449e+05</td>\n",
       "      <td>6.000000</td>\n",
       "      <td>7.000000</td>\n",
       "    </tr>\n",
       "    <tr>\n",
       "      <th>max</th>\n",
       "      <td>62.000000</td>\n",
       "      <td>749.000000</td>\n",
       "      <td>96.000000</td>\n",
       "      <td>8.000000</td>\n",
       "      <td>1.632004e+07</td>\n",
       "      <td>7.000000</td>\n",
       "      <td>9.000000</td>\n",
       "    </tr>\n",
       "  </tbody>\n",
       "</table>\n",
       "</div>"
      ],
      "text/plain": [
       "       seniority_per_years  seniority_per_months           age  \\\n",
       "count         70595.000000          70595.000000  70595.000000   \n",
       "mean             12.052950            150.659367     46.442240   \n",
       "std               6.871819             82.089854     15.591162   \n",
       "min               2.000000             33.000000     13.500000   \n",
       "25%               6.000000             82.000000     32.500000   \n",
       "50%              11.000000            136.000000     47.000000   \n",
       "75%              16.000000            192.000000     59.000000   \n",
       "max              62.000000            749.000000     96.000000   \n",
       "\n",
       "       number_of_accounts       balance  calls_6_month  logons_6_month  \n",
       "count        70595.000000  7.059500e+04   70595.000000    70595.000000  \n",
       "mean             2.255528  1.474452e+05       3.382478        5.566740  \n",
       "std              0.534997  3.015087e+05       2.236580        2.353286  \n",
       "min              1.000000  1.378942e+04       0.000000        1.000000  \n",
       "25%              2.000000  3.734683e+04       1.000000        4.000000  \n",
       "50%              2.000000  6.333290e+04       3.000000        5.000000  \n",
       "75%              2.000000  1.375449e+05       6.000000        7.000000  \n",
       "max              8.000000  1.632004e+07       7.000000        9.000000  "
      ]
     },
     "execution_count": 13,
     "metadata": {},
     "output_type": "execute_result"
    }
   ],
   "source": [
    "# Check the general summary of num data\n",
    "\n",
    "demo_cols_num = ['seniority_per_years', 'seniority_per_months', 'age', 'number_of_accounts', 'balance', 'calls_6_month', 'logons_6_month'] \n",
    "demo_cols_cat = ['gender']\n",
    "\n",
    "df_final_demo_drop_nulls[demo_cols_num].describe()"
   ]
  },
  {
   "cell_type": "markdown",
   "metadata": {},
   "source": [
    "### Check web data (pt1 and pt2)"
   ]
  },
  {
   "cell_type": "code",
   "execution_count": 14,
   "metadata": {},
   "outputs": [
    {
     "name": "stdout",
     "output_type": "stream",
     "text": [
      "Number of columns -> 5\n",
      "Number of rows -> 755405\n",
      "Number of duplicates -> 10764\n"
     ]
    },
    {
     "data": {
      "text/html": [
       "<div>\n",
       "<style scoped>\n",
       "    .dataframe tbody tr th:only-of-type {\n",
       "        vertical-align: middle;\n",
       "    }\n",
       "\n",
       "    .dataframe tbody tr th {\n",
       "        vertical-align: top;\n",
       "    }\n",
       "\n",
       "    .dataframe thead th {\n",
       "        text-align: right;\n",
       "    }\n",
       "</style>\n",
       "<table border=\"1\" class=\"dataframe\">\n",
       "  <thead>\n",
       "    <tr style=\"text-align: right;\">\n",
       "      <th></th>\n",
       "      <th>Column</th>\n",
       "      <th>Data Type</th>\n",
       "      <th>Values Count</th>\n",
       "      <th>Null Values</th>\n",
       "      <th>Unique Values</th>\n",
       "    </tr>\n",
       "  </thead>\n",
       "  <tbody>\n",
       "    <tr>\n",
       "      <th>client_id</th>\n",
       "      <td>client_id</td>\n",
       "      <td>int64</td>\n",
       "      <td>755405</td>\n",
       "      <td>0</td>\n",
       "      <td>120157</td>\n",
       "    </tr>\n",
       "    <tr>\n",
       "      <th>visitor_id</th>\n",
       "      <td>visitor_id</td>\n",
       "      <td>object</td>\n",
       "      <td>755405</td>\n",
       "      <td>0</td>\n",
       "      <td>130236</td>\n",
       "    </tr>\n",
       "    <tr>\n",
       "      <th>visit_id</th>\n",
       "      <td>visit_id</td>\n",
       "      <td>object</td>\n",
       "      <td>755405</td>\n",
       "      <td>0</td>\n",
       "      <td>158095</td>\n",
       "    </tr>\n",
       "    <tr>\n",
       "      <th>process_step</th>\n",
       "      <td>process_step</td>\n",
       "      <td>object</td>\n",
       "      <td>755405</td>\n",
       "      <td>0</td>\n",
       "      <td>5</td>\n",
       "    </tr>\n",
       "    <tr>\n",
       "      <th>date_time</th>\n",
       "      <td>date_time</td>\n",
       "      <td>object</td>\n",
       "      <td>755405</td>\n",
       "      <td>0</td>\n",
       "      <td>629363</td>\n",
       "    </tr>\n",
       "  </tbody>\n",
       "</table>\n",
       "</div>"
      ],
      "text/plain": [
       "                    Column Data Type  Values Count  Null Values  Unique Values\n",
       "client_id        client_id     int64        755405            0         120157\n",
       "visitor_id      visitor_id    object        755405            0         130236\n",
       "visit_id          visit_id    object        755405            0         158095\n",
       "process_step  process_step    object        755405            0              5\n",
       "date_time        date_time    object        755405            0         629363"
      ]
     },
     "execution_count": 14,
     "metadata": {},
     "output_type": "execute_result"
    }
   ],
   "source": [
    "df_web_data_total = pd.concat([df_web_data_1, df_web_data_2], axis=0)\n",
    "\n",
    "data_summary(df_web_data_total)"
   ]
  },
  {
   "cell_type": "markdown",
   "metadata": {},
   "source": [
    "date_time is an 'object' columns, when it should be a datetime type; at least 11k duplicates rows"
   ]
  },
  {
   "cell_type": "code",
   "execution_count": 15,
   "metadata": {},
   "outputs": [],
   "source": [
    "df_web_data_total['client_id'] = df_web_data_total['client_id'].astype(str)\n",
    "\n",
    "df_web_data_total['date_time'] = pd.to_datetime(df_web_data_total['date_time'])"
   ]
  },
  {
   "cell_type": "code",
   "execution_count": 16,
   "metadata": {},
   "outputs": [
    {
     "data": {
      "text/html": [
       "<div>\n",
       "<style scoped>\n",
       "    .dataframe tbody tr th:only-of-type {\n",
       "        vertical-align: middle;\n",
       "    }\n",
       "\n",
       "    .dataframe tbody tr th {\n",
       "        vertical-align: top;\n",
       "    }\n",
       "\n",
       "    .dataframe thead th {\n",
       "        text-align: right;\n",
       "    }\n",
       "</style>\n",
       "<table border=\"1\" class=\"dataframe\">\n",
       "  <thead>\n",
       "    <tr style=\"text-align: right;\">\n",
       "      <th></th>\n",
       "      <th>client_id</th>\n",
       "      <th>visitor_id</th>\n",
       "      <th>visit_id</th>\n",
       "      <th>process_step</th>\n",
       "      <th>date_time</th>\n",
       "      <th>date</th>\n",
       "      <th>time</th>\n",
       "    </tr>\n",
       "  </thead>\n",
       "  <tbody>\n",
       "    <tr>\n",
       "      <th>0</th>\n",
       "      <td>9988021</td>\n",
       "      <td>580560515_7732621733</td>\n",
       "      <td>781255054_21935453173_531117</td>\n",
       "      <td>step_3</td>\n",
       "      <td>2017-04-17 15:27:07</td>\n",
       "      <td>2017-04-17</td>\n",
       "      <td>15:27:07</td>\n",
       "    </tr>\n",
       "    <tr>\n",
       "      <th>1</th>\n",
       "      <td>9988021</td>\n",
       "      <td>580560515_7732621733</td>\n",
       "      <td>781255054_21935453173_531117</td>\n",
       "      <td>step_2</td>\n",
       "      <td>2017-04-17 15:26:51</td>\n",
       "      <td>2017-04-17</td>\n",
       "      <td>15:26:51</td>\n",
       "    </tr>\n",
       "    <tr>\n",
       "      <th>2</th>\n",
       "      <td>9988021</td>\n",
       "      <td>580560515_7732621733</td>\n",
       "      <td>781255054_21935453173_531117</td>\n",
       "      <td>step_3</td>\n",
       "      <td>2017-04-17 15:19:22</td>\n",
       "      <td>2017-04-17</td>\n",
       "      <td>15:19:22</td>\n",
       "    </tr>\n",
       "    <tr>\n",
       "      <th>3</th>\n",
       "      <td>9988021</td>\n",
       "      <td>580560515_7732621733</td>\n",
       "      <td>781255054_21935453173_531117</td>\n",
       "      <td>step_2</td>\n",
       "      <td>2017-04-17 15:19:13</td>\n",
       "      <td>2017-04-17</td>\n",
       "      <td>15:19:13</td>\n",
       "    </tr>\n",
       "    <tr>\n",
       "      <th>4</th>\n",
       "      <td>9988021</td>\n",
       "      <td>580560515_7732621733</td>\n",
       "      <td>781255054_21935453173_531117</td>\n",
       "      <td>step_3</td>\n",
       "      <td>2017-04-17 15:18:04</td>\n",
       "      <td>2017-04-17</td>\n",
       "      <td>15:18:04</td>\n",
       "    </tr>\n",
       "  </tbody>\n",
       "</table>\n",
       "</div>"
      ],
      "text/plain": [
       "  client_id            visitor_id                      visit_id process_step  \\\n",
       "0   9988021  580560515_7732621733  781255054_21935453173_531117       step_3   \n",
       "1   9988021  580560515_7732621733  781255054_21935453173_531117       step_2   \n",
       "2   9988021  580560515_7732621733  781255054_21935453173_531117       step_3   \n",
       "3   9988021  580560515_7732621733  781255054_21935453173_531117       step_2   \n",
       "4   9988021  580560515_7732621733  781255054_21935453173_531117       step_3   \n",
       "\n",
       "            date_time        date      time  \n",
       "0 2017-04-17 15:27:07  2017-04-17  15:27:07  \n",
       "1 2017-04-17 15:26:51  2017-04-17  15:26:51  \n",
       "2 2017-04-17 15:19:22  2017-04-17  15:19:22  \n",
       "3 2017-04-17 15:19:13  2017-04-17  15:19:13  \n",
       "4 2017-04-17 15:18:04  2017-04-17  15:18:04  "
      ]
     },
     "execution_count": 16,
     "metadata": {},
     "output_type": "execute_result"
    }
   ],
   "source": [
    "# Divide 'date_time' in two columns: Date and Time\n",
    "\n",
    "df_web_data_total['date'] = df_web_data_total['date_time'].dt.date\n",
    "df_web_data_total['time'] = df_web_data_total['date_time'].dt.time\n",
    "\n",
    "\n",
    "df_web_data_total.head(5)\n"
   ]
  },
  {
   "cell_type": "code",
   "execution_count": 17,
   "metadata": {},
   "outputs": [
    {
     "name": "stdout",
     "output_type": "stream",
     "text": [
      "Number of columns -> 7\n",
      "Number of rows -> 744641\n",
      "Number of duplicates -> 0\n"
     ]
    },
    {
     "data": {
      "text/html": [
       "<div>\n",
       "<style scoped>\n",
       "    .dataframe tbody tr th:only-of-type {\n",
       "        vertical-align: middle;\n",
       "    }\n",
       "\n",
       "    .dataframe tbody tr th {\n",
       "        vertical-align: top;\n",
       "    }\n",
       "\n",
       "    .dataframe thead th {\n",
       "        text-align: right;\n",
       "    }\n",
       "</style>\n",
       "<table border=\"1\" class=\"dataframe\">\n",
       "  <thead>\n",
       "    <tr style=\"text-align: right;\">\n",
       "      <th></th>\n",
       "      <th>Column</th>\n",
       "      <th>Data Type</th>\n",
       "      <th>Values Count</th>\n",
       "      <th>Null Values</th>\n",
       "      <th>Unique Values</th>\n",
       "    </tr>\n",
       "  </thead>\n",
       "  <tbody>\n",
       "    <tr>\n",
       "      <th>client_id</th>\n",
       "      <td>client_id</td>\n",
       "      <td>object</td>\n",
       "      <td>744641</td>\n",
       "      <td>0</td>\n",
       "      <td>120157</td>\n",
       "    </tr>\n",
       "    <tr>\n",
       "      <th>visitor_id</th>\n",
       "      <td>visitor_id</td>\n",
       "      <td>object</td>\n",
       "      <td>744641</td>\n",
       "      <td>0</td>\n",
       "      <td>130236</td>\n",
       "    </tr>\n",
       "    <tr>\n",
       "      <th>visit_id</th>\n",
       "      <td>visit_id</td>\n",
       "      <td>object</td>\n",
       "      <td>744641</td>\n",
       "      <td>0</td>\n",
       "      <td>158095</td>\n",
       "    </tr>\n",
       "    <tr>\n",
       "      <th>process_step</th>\n",
       "      <td>process_step</td>\n",
       "      <td>object</td>\n",
       "      <td>744641</td>\n",
       "      <td>0</td>\n",
       "      <td>5</td>\n",
       "    </tr>\n",
       "    <tr>\n",
       "      <th>date_time</th>\n",
       "      <td>date_time</td>\n",
       "      <td>datetime64[ns]</td>\n",
       "      <td>744641</td>\n",
       "      <td>0</td>\n",
       "      <td>629363</td>\n",
       "    </tr>\n",
       "    <tr>\n",
       "      <th>date</th>\n",
       "      <td>date</td>\n",
       "      <td>object</td>\n",
       "      <td>744641</td>\n",
       "      <td>0</td>\n",
       "      <td>98</td>\n",
       "    </tr>\n",
       "    <tr>\n",
       "      <th>time</th>\n",
       "      <td>time</td>\n",
       "      <td>object</td>\n",
       "      <td>744641</td>\n",
       "      <td>0</td>\n",
       "      <td>77640</td>\n",
       "    </tr>\n",
       "  </tbody>\n",
       "</table>\n",
       "</div>"
      ],
      "text/plain": [
       "                    Column       Data Type  Values Count  Null Values  \\\n",
       "client_id        client_id          object        744641            0   \n",
       "visitor_id      visitor_id          object        744641            0   \n",
       "visit_id          visit_id          object        744641            0   \n",
       "process_step  process_step          object        744641            0   \n",
       "date_time        date_time  datetime64[ns]        744641            0   \n",
       "date                  date          object        744641            0   \n",
       "time                  time          object        744641            0   \n",
       "\n",
       "              Unique Values  \n",
       "client_id            120157  \n",
       "visitor_id           130236  \n",
       "visit_id             158095  \n",
       "process_step              5  \n",
       "date_time            629363  \n",
       "date                     98  \n",
       "time                  77640  "
      ]
     },
     "execution_count": 17,
     "metadata": {},
     "output_type": "execute_result"
    }
   ],
   "source": [
    "# We decided to drop the duplicate rows as we believe it may be due to a logging error (e.g. logging a double click)\n",
    "\n",
    "df_web_data_total = df_web_data_total.drop_duplicates()\n",
    "\n",
    "data_summary(df_web_data_total)"
   ]
  },
  {
   "cell_type": "code",
   "execution_count": 18,
   "metadata": {},
   "outputs": [
    {
     "name": "stdout",
     "output_type": "stream",
     "text": [
      "File saved to: C:\\Users\\VSPC\\Documents\\GitHub\\New-Web-Study\\data/df_web_data_total.csv\n"
     ]
    }
   ],
   "source": [
    "folder_path = r'C:\\Users\\VSPC\\Documents\\GitHub\\New-Web-Study\\data'\n",
    "\n",
    "file_path = folder_path + \"/df_web_data_total.csv\"\n",
    "\n",
    "df_web_data_total.to_csv(file_path, index=False)\n",
    "\n",
    "print(f\"File saved to: {file_path}\")"
   ]
  },
  {
   "cell_type": "markdown",
   "metadata": {},
   "source": [
    "# EDA (Exploratory Data Analisys)"
   ]
  },
  {
   "cell_type": "markdown",
   "metadata": {},
   "source": [
    "Dataframes:\n",
    "- df_web_data_total\n",
    "- df_final_demo_drop_nulls\n",
    "- df_final_experiment_cleaned"
   ]
  },
  {
   "cell_type": "markdown",
   "metadata": {},
   "source": [
    "## Demographics + Variation"
   ]
  },
  {
   "cell_type": "code",
   "execution_count": 19,
   "metadata": {},
   "outputs": [
    {
     "data": {
      "text/html": [
       "<div>\n",
       "<style scoped>\n",
       "    .dataframe tbody tr th:only-of-type {\n",
       "        vertical-align: middle;\n",
       "    }\n",
       "\n",
       "    .dataframe tbody tr th {\n",
       "        vertical-align: top;\n",
       "    }\n",
       "\n",
       "    .dataframe thead th {\n",
       "        text-align: right;\n",
       "    }\n",
       "</style>\n",
       "<table border=\"1\" class=\"dataframe\">\n",
       "  <thead>\n",
       "    <tr style=\"text-align: right;\">\n",
       "      <th></th>\n",
       "      <th>client_id</th>\n",
       "      <th>seniority_per_years</th>\n",
       "      <th>seniority_per_months</th>\n",
       "      <th>age</th>\n",
       "      <th>gender</th>\n",
       "      <th>number_of_accounts</th>\n",
       "      <th>balance</th>\n",
       "      <th>calls_6_month</th>\n",
       "      <th>logons_6_month</th>\n",
       "      <th>Variation</th>\n",
       "    </tr>\n",
       "  </thead>\n",
       "  <tbody>\n",
       "    <tr>\n",
       "      <th>0</th>\n",
       "      <td>836976</td>\n",
       "      <td>6.0</td>\n",
       "      <td>73.0</td>\n",
       "      <td>60.5</td>\n",
       "      <td>U</td>\n",
       "      <td>2.0</td>\n",
       "      <td>45105.30</td>\n",
       "      <td>6.0</td>\n",
       "      <td>9.0</td>\n",
       "      <td>Test</td>\n",
       "    </tr>\n",
       "    <tr>\n",
       "      <th>1</th>\n",
       "      <td>2304905</td>\n",
       "      <td>7.0</td>\n",
       "      <td>94.0</td>\n",
       "      <td>58.0</td>\n",
       "      <td>U</td>\n",
       "      <td>2.0</td>\n",
       "      <td>110860.30</td>\n",
       "      <td>6.0</td>\n",
       "      <td>9.0</td>\n",
       "      <td>Control</td>\n",
       "    </tr>\n",
       "    <tr>\n",
       "      <th>2</th>\n",
       "      <td>1439522</td>\n",
       "      <td>5.0</td>\n",
       "      <td>64.0</td>\n",
       "      <td>32.0</td>\n",
       "      <td>U</td>\n",
       "      <td>2.0</td>\n",
       "      <td>52467.79</td>\n",
       "      <td>6.0</td>\n",
       "      <td>9.0</td>\n",
       "      <td>Test</td>\n",
       "    </tr>\n",
       "    <tr>\n",
       "      <th>3</th>\n",
       "      <td>1562045</td>\n",
       "      <td>16.0</td>\n",
       "      <td>198.0</td>\n",
       "      <td>49.0</td>\n",
       "      <td>M</td>\n",
       "      <td>2.0</td>\n",
       "      <td>67454.65</td>\n",
       "      <td>3.0</td>\n",
       "      <td>6.0</td>\n",
       "      <td>Test</td>\n",
       "    </tr>\n",
       "    <tr>\n",
       "      <th>4</th>\n",
       "      <td>5126305</td>\n",
       "      <td>12.0</td>\n",
       "      <td>145.0</td>\n",
       "      <td>33.0</td>\n",
       "      <td>F</td>\n",
       "      <td>2.0</td>\n",
       "      <td>103671.75</td>\n",
       "      <td>0.0</td>\n",
       "      <td>3.0</td>\n",
       "      <td>Control</td>\n",
       "    </tr>\n",
       "    <tr>\n",
       "      <th>...</th>\n",
       "      <td>...</td>\n",
       "      <td>...</td>\n",
       "      <td>...</td>\n",
       "      <td>...</td>\n",
       "      <td>...</td>\n",
       "      <td>...</td>\n",
       "      <td>...</td>\n",
       "      <td>...</td>\n",
       "      <td>...</td>\n",
       "      <td>...</td>\n",
       "    </tr>\n",
       "    <tr>\n",
       "      <th>70590</th>\n",
       "      <td>7993686</td>\n",
       "      <td>4.0</td>\n",
       "      <td>56.0</td>\n",
       "      <td>38.5</td>\n",
       "      <td>U</td>\n",
       "      <td>3.0</td>\n",
       "      <td>1411062.68</td>\n",
       "      <td>5.0</td>\n",
       "      <td>5.0</td>\n",
       "      <td>Test</td>\n",
       "    </tr>\n",
       "    <tr>\n",
       "      <th>70591</th>\n",
       "      <td>8981690</td>\n",
       "      <td>12.0</td>\n",
       "      <td>148.0</td>\n",
       "      <td>31.0</td>\n",
       "      <td>M</td>\n",
       "      <td>2.0</td>\n",
       "      <td>101867.07</td>\n",
       "      <td>6.0</td>\n",
       "      <td>6.0</td>\n",
       "      <td>Test</td>\n",
       "    </tr>\n",
       "    <tr>\n",
       "      <th>70592</th>\n",
       "      <td>333913</td>\n",
       "      <td>16.0</td>\n",
       "      <td>198.0</td>\n",
       "      <td>61.5</td>\n",
       "      <td>F</td>\n",
       "      <td>2.0</td>\n",
       "      <td>40745.00</td>\n",
       "      <td>3.0</td>\n",
       "      <td>3.0</td>\n",
       "      <td>Test</td>\n",
       "    </tr>\n",
       "    <tr>\n",
       "      <th>70593</th>\n",
       "      <td>1573142</td>\n",
       "      <td>21.0</td>\n",
       "      <td>255.0</td>\n",
       "      <td>68.0</td>\n",
       "      <td>M</td>\n",
       "      <td>3.0</td>\n",
       "      <td>475114.69</td>\n",
       "      <td>4.0</td>\n",
       "      <td>4.0</td>\n",
       "      <td>Control</td>\n",
       "    </tr>\n",
       "    <tr>\n",
       "      <th>70594</th>\n",
       "      <td>5602139</td>\n",
       "      <td>21.0</td>\n",
       "      <td>254.0</td>\n",
       "      <td>59.5</td>\n",
       "      <td>F</td>\n",
       "      <td>3.0</td>\n",
       "      <td>157498.73</td>\n",
       "      <td>7.0</td>\n",
       "      <td>7.0</td>\n",
       "      <td>Test</td>\n",
       "    </tr>\n",
       "  </tbody>\n",
       "</table>\n",
       "<p>70595 rows × 10 columns</p>\n",
       "</div>"
      ],
      "text/plain": [
       "      client_id  seniority_per_years  seniority_per_months   age gender  \\\n",
       "0        836976                  6.0                  73.0  60.5      U   \n",
       "1       2304905                  7.0                  94.0  58.0      U   \n",
       "2       1439522                  5.0                  64.0  32.0      U   \n",
       "3       1562045                 16.0                 198.0  49.0      M   \n",
       "4       5126305                 12.0                 145.0  33.0      F   \n",
       "...         ...                  ...                   ...   ...    ...   \n",
       "70590   7993686                  4.0                  56.0  38.5      U   \n",
       "70591   8981690                 12.0                 148.0  31.0      M   \n",
       "70592    333913                 16.0                 198.0  61.5      F   \n",
       "70593   1573142                 21.0                 255.0  68.0      M   \n",
       "70594   5602139                 21.0                 254.0  59.5      F   \n",
       "\n",
       "       number_of_accounts     balance  calls_6_month  logons_6_month Variation  \n",
       "0                     2.0    45105.30            6.0             9.0      Test  \n",
       "1                     2.0   110860.30            6.0             9.0   Control  \n",
       "2                     2.0    52467.79            6.0             9.0      Test  \n",
       "3                     2.0    67454.65            3.0             6.0      Test  \n",
       "4                     2.0   103671.75            0.0             3.0   Control  \n",
       "...                   ...         ...            ...             ...       ...  \n",
       "70590                 3.0  1411062.68            5.0             5.0      Test  \n",
       "70591                 2.0   101867.07            6.0             6.0      Test  \n",
       "70592                 2.0    40745.00            3.0             3.0      Test  \n",
       "70593                 3.0   475114.69            4.0             4.0   Control  \n",
       "70594                 3.0   157498.73            7.0             7.0      Test  \n",
       "\n",
       "[70595 rows x 10 columns]"
      ]
     },
     "execution_count": 19,
     "metadata": {},
     "output_type": "execute_result"
    }
   ],
   "source": [
    "# Merge variaton + demographics\n",
    "\n",
    "df_final_experiment_cleaned['client_id'] = df_final_experiment_cleaned['client_id'].astype(str)\n",
    "\n",
    "merged_demo_experiment = pd.merge(\n",
    "    df_final_demo_drop_nulls,\n",
    "    df_final_experiment_cleaned[['client_id', 'Variation']],\n",
    "    on='client_id',\n",
    "    how='left'\n",
    ")\n",
    "\n",
    "merged_demo_experiment"
   ]
  },
  {
   "cell_type": "code",
   "execution_count": 20,
   "metadata": {},
   "outputs": [
    {
     "data": {
      "image/png": "[encoded data removed]",
      "text/plain": [
       "<Figure size 800x600 with 1 Axes>"
      ]
     },
     "metadata": {},
     "output_type": "display_data"
    }
   ],
   "source": [
    "# 1. Distribution per age\n",
    "\n",
    "plt.figure(figsize=(8,6))\n",
    "sns.histplot(data=merged_demo_experiment, x='age', hue='Variation', bins=20, \n",
    "             palette='Set2', edgecolor='black', multiple='stack')\n",
    "plt.title('Distribution of Age')\n",
    "plt.xlabel('Age')\n",
    "plt.ylabel('Frequency')\n",
    "plt.grid(True)\n",
    "plt.show()"
   ]
  },
  {
   "cell_type": "markdown",
   "metadata": {},
   "source": [
    "Hipo: It would be interesting to review the behavior of the youngest"
   ]
  },
  {
   "cell_type": "code",
   "execution_count": 21,
   "metadata": {},
   "outputs": [
    {
     "data": {
      "image/png": "[encoded data removed]",
      "text/plain": [
       "<Figure size 800x600 with 1 Axes>"
      ]
     },
     "metadata": {},
     "output_type": "display_data"
    }
   ],
   "source": [
    "# Distribution per balance\n",
    "\n",
    "plt.figure(figsize=(8, 6))\n",
    "plt.hist(merged_demo_experiment['balance'], bins=20, color='lightgreen', edgecolor='black')\n",
    "plt.title('Distribution of Balance')\n",
    "plt.xlabel('Balance')\n",
    "plt.ylabel('Frequency')\n",
    "plt.grid(True)\n",
    "plt.show()"
   ]
  },
  {
   "cell_type": "markdown",
   "metadata": {},
   "source": [
    "Not worth"
   ]
  },
  {
   "cell_type": "code",
   "execution_count": 22,
   "metadata": {},
   "outputs": [
    {
     "data": {
      "image/png": "[encoded data removed]",
      "text/plain": [
       "<Figure size 800x600 with 1 Axes>"
      ]
     },
     "metadata": {},
     "output_type": "display_data"
    }
   ],
   "source": [
    "# Age and Balance\n",
    "\n",
    "plt.figure(figsize=(8, 6))\n",
    "plt.scatter(merged_demo_experiment['age'], merged_demo_experiment['balance'], alpha=0.5)\n",
    "plt.title('Age vs Balance')\n",
    "plt.xlabel('Age')\n",
    "plt.ylabel('Balance')\n",
    "plt.grid(True)\n",
    "plt.show()"
   ]
  },
  {
   "cell_type": "code",
   "execution_count": 23,
   "metadata": {},
   "outputs": [
    {
     "data": {
      "image/png": "[encoded data removed]",
      "text/plain": [
       "<Figure size 800x600 with 1 Axes>"
      ]
     },
     "metadata": {},
     "output_type": "display_data"
    }
   ],
   "source": [
    "# seniority_per_yaer and number of acc\n",
    "plt.figure(figsize=(8, 6))\n",
    "plt.scatter(merged_demo_experiment['seniority_per_years'], merged_demo_experiment['number_of_accounts'], alpha=0.5, color='purple')\n",
    "plt.title('Antique vs Number of Accounts')\n",
    "plt.xlabel('Seniority')\n",
    "plt.ylabel('Number of Accounts')\n",
    "plt.grid(True)\n",
    "plt.show()"
   ]
  },
  {
   "cell_type": "markdown",
   "metadata": {},
   "source": [
    "#### Some views about the Variation groups"
   ]
  },
  {
   "cell_type": "code",
   "execution_count": 24,
   "metadata": {},
   "outputs": [
    {
     "data": {
      "image/png": "[encoded data removed]",
      "text/plain": [
       "<Figure size 1000x600 with 1 Axes>"
      ]
     },
     "metadata": {},
     "output_type": "display_data"
    }
   ],
   "source": [
    "# Logons and calls last 6 months per group\n",
    "\n",
    "plt.figure(figsize=(10, 6))\n",
    "sns.barplot(data=merged_demo_experiment, \n",
    "            x='calls_6_month', \n",
    "            y='logons_6_month', \n",
    "            hue='Variation', \n",
    "            palette='Set1')\n",
    "plt.title('Comparison of Calls and Logons by Variation')\n",
    "plt.xlabel('Calls (Last 6 months)')\n",
    "plt.ylabel('Logos (Last 6 months)')\n",
    "plt.grid(True)\n",
    "plt.show()\n",
    "\n"
   ]
  },
  {
   "cell_type": "code",
   "execution_count": 25,
   "metadata": {},
   "outputs": [
    {
     "data": {
      "text/plain": [
       "<Figure size 800x600 with 0 Axes>"
      ]
     },
     "metadata": {},
     "output_type": "display_data"
    },
    {
     "data": {
      "image/png": "[encoded data removed]",
      "text/plain": [
       "<Figure size 640x480 with 1 Axes>"
      ]
     },
     "metadata": {},
     "output_type": "display_data"
    }
   ],
   "source": [
    "# Balance and Variation\n",
    "\n",
    "plt.figure(figsize=(8, 6))\n",
    "merged_demo_experiment.boxplot(column='balance', by='Variation')\n",
    "plt.title('Balance by Variation Group')\n",
    "plt.suptitle('') \n",
    "plt.xlabel('Variation')\n",
    "plt.ylabel('Balance')\n",
    "plt.grid(True)\n",
    "plt.show()"
   ]
  },
  {
   "cell_type": "code",
   "execution_count": 26,
   "metadata": {},
   "outputs": [
    {
     "data": {
      "image/png": "[encoded data removed]",
      "text/plain": [
       "<Figure size 800x600 with 1 Axes>"
      ]
     },
     "metadata": {},
     "output_type": "display_data"
    }
   ],
   "source": [
    "# Gender per Variation group\n",
    "gender_variation_counts = merged_demo_experiment.groupby(['Variation', 'gender']).size().unstack()\n",
    "\n",
    "gender_variation_counts.plot(kind='bar', stacked=True, figsize=(8, 6))\n",
    "plt.title('Gender Distribution by Variation Group')\n",
    "plt.xlabel('Variation')\n",
    "plt.ylabel('Number of Clients')\n",
    "plt.grid(True)\n",
    "plt.show()\n"
   ]
  },
  {
   "cell_type": "code",
   "execution_count": 27,
   "metadata": {},
   "outputs": [
    {
     "data": {
      "text/plain": [
       "<Figure size 800x600 with 0 Axes>"
      ]
     },
     "metadata": {},
     "output_type": "display_data"
    },
    {
     "data": {
      "image/png": "[encoded data removed]",
      "text/plain": [
       "<Figure size 640x480 with 1 Axes>"
      ]
     },
     "metadata": {},
     "output_type": "display_data"
    }
   ],
   "source": [
    "# Age and Variation\n",
    "plt.figure(figsize=(8, 6))\n",
    "merged_demo_experiment.boxplot(column='age', by='Variation')\n",
    "plt.title('Age Distribution by Variation Group')\n",
    "plt.suptitle('')\n",
    "plt.xlabel('Variation')\n",
    "plt.ylabel('Age')\n",
    "plt.grid(True)\n",
    "plt.show()\n"
   ]
  },
  {
   "cell_type": "code",
   "execution_count": 28,
   "metadata": {},
   "outputs": [
    {
     "data": {
      "text/plain": [
       "<Figure size 800x600 with 0 Axes>"
      ]
     },
     "metadata": {},
     "output_type": "display_data"
    },
    {
     "data": {
      "image/png": "[encoded data removed]",
      "text/plain": [
       "<Figure size 640x480 with 1 Axes>"
      ]
     },
     "metadata": {},
     "output_type": "display_data"
    }
   ],
   "source": [
    "#Seniority and Variation\n",
    "\n",
    "plt.figure(figsize=(8, 6))\n",
    "merged_demo_experiment.boxplot(column='seniority_per_years', by='Variation')\n",
    "plt.title('Seniority (Years) by Variation Group')\n",
    "plt.suptitle('')\n",
    "plt.xlabel('Variation')\n",
    "plt.ylabel('Seniority (Years)')\n",
    "plt.grid(True)\n",
    "plt.show()"
   ]
  },
  {
   "cell_type": "markdown",
   "metadata": {},
   "source": [
    "Poss conclusion: both Variation groups are, at least, equal"
   ]
  },
  {
   "cell_type": "markdown",
   "metadata": {},
   "source": [
    "## Establish KPIs and observe different metrics"
   ]
  },
  {
   "cell_type": "code",
   "execution_count": 29,
   "metadata": {},
   "outputs": [
    {
     "name": "stdout",
     "output_type": "stream",
     "text": [
      "Number of columns -> 8\n",
      "Number of rows -> 443897\n",
      "Number of duplicates -> 0\n"
     ]
    },
    {
     "data": {
      "text/html": [
       "<div>\n",
       "<style scoped>\n",
       "    .dataframe tbody tr th:only-of-type {\n",
       "        vertical-align: middle;\n",
       "    }\n",
       "\n",
       "    .dataframe tbody tr th {\n",
       "        vertical-align: top;\n",
       "    }\n",
       "\n",
       "    .dataframe thead th {\n",
       "        text-align: right;\n",
       "    }\n",
       "</style>\n",
       "<table border=\"1\" class=\"dataframe\">\n",
       "  <thead>\n",
       "    <tr style=\"text-align: right;\">\n",
       "      <th></th>\n",
       "      <th>Column</th>\n",
       "      <th>Data Type</th>\n",
       "      <th>Values Count</th>\n",
       "      <th>Null Values</th>\n",
       "      <th>Unique Values</th>\n",
       "    </tr>\n",
       "  </thead>\n",
       "  <tbody>\n",
       "    <tr>\n",
       "      <th>client_id</th>\n",
       "      <td>client_id</td>\n",
       "      <td>object</td>\n",
       "      <td>443897</td>\n",
       "      <td>0</td>\n",
       "      <td>70609</td>\n",
       "    </tr>\n",
       "    <tr>\n",
       "      <th>visitor_id</th>\n",
       "      <td>visitor_id</td>\n",
       "      <td>object</td>\n",
       "      <td>443897</td>\n",
       "      <td>0</td>\n",
       "      <td>78187</td>\n",
       "    </tr>\n",
       "    <tr>\n",
       "      <th>visit_id</th>\n",
       "      <td>visit_id</td>\n",
       "      <td>object</td>\n",
       "      <td>443897</td>\n",
       "      <td>0</td>\n",
       "      <td>96773</td>\n",
       "    </tr>\n",
       "    <tr>\n",
       "      <th>process_step</th>\n",
       "      <td>process_step</td>\n",
       "      <td>object</td>\n",
       "      <td>443897</td>\n",
       "      <td>0</td>\n",
       "      <td>5</td>\n",
       "    </tr>\n",
       "    <tr>\n",
       "      <th>date_time</th>\n",
       "      <td>date_time</td>\n",
       "      <td>datetime64[ns]</td>\n",
       "      <td>443897</td>\n",
       "      <td>0</td>\n",
       "      <td>384038</td>\n",
       "    </tr>\n",
       "    <tr>\n",
       "      <th>date</th>\n",
       "      <td>date</td>\n",
       "      <td>object</td>\n",
       "      <td>443897</td>\n",
       "      <td>0</td>\n",
       "      <td>98</td>\n",
       "    </tr>\n",
       "    <tr>\n",
       "      <th>time</th>\n",
       "      <td>time</td>\n",
       "      <td>object</td>\n",
       "      <td>443897</td>\n",
       "      <td>0</td>\n",
       "      <td>73342</td>\n",
       "    </tr>\n",
       "    <tr>\n",
       "      <th>Variation</th>\n",
       "      <td>Variation</td>\n",
       "      <td>object</td>\n",
       "      <td>443897</td>\n",
       "      <td>0</td>\n",
       "      <td>2</td>\n",
       "    </tr>\n",
       "  </tbody>\n",
       "</table>\n",
       "</div>"
      ],
      "text/plain": [
       "                    Column       Data Type  Values Count  Null Values  \\\n",
       "client_id        client_id          object        443897            0   \n",
       "visitor_id      visitor_id          object        443897            0   \n",
       "visit_id          visit_id          object        443897            0   \n",
       "process_step  process_step          object        443897            0   \n",
       "date_time        date_time  datetime64[ns]        443897            0   \n",
       "date                  date          object        443897            0   \n",
       "time                  time          object        443897            0   \n",
       "Variation        Variation          object        443897            0   \n",
       "\n",
       "              Unique Values  \n",
       "client_id             70609  \n",
       "visitor_id            78187  \n",
       "visit_id              96773  \n",
       "process_step              5  \n",
       "date_time            384038  \n",
       "date                     98  \n",
       "time                  73342  \n",
       "Variation                 2  "
      ]
     },
     "execution_count": 29,
     "metadata": {},
     "output_type": "execute_result"
    }
   ],
   "source": [
    "# Merge web_data and experiment\n",
    "\n",
    "df_final_experiment_cleaned['client_id'] = df_final_experiment_cleaned['client_id'].astype(str)\n",
    "\n",
    "merged_experiment_web_data = pd.merge(\n",
    "    df_web_data_total,\n",
    "    df_final_experiment_cleaned[['client_id', 'Variation']],\n",
    "    on='client_id',\n",
    "    how='inner'\n",
    ")\n",
    "\n",
    "data_summary(merged_experiment_web_data)"
   ]
  },
  {
   "cell_type": "markdown",
   "metadata": {},
   "source": [
    "### Conversion rate and Dropout Rate"
   ]
  },
  {
   "cell_type": "code",
   "execution_count": 30,
   "metadata": {},
   "outputs": [
    {
     "ename": "AttributeError",
     "evalue": "'int' object has no attribute 'max'",
     "output_type": "error",
     "traceback": [
      "\u001b[1;31m---------------------------------------------------------------------------\u001b[0m",
      "\u001b[1;31mAttributeError\u001b[0m                            Traceback (most recent call last)",
      "Cell \u001b[1;32mIn[30], line 1\u001b[0m\n\u001b[1;32m----> 1\u001b[0m \u001b[43mcalculate_conversion_and_dropout\u001b[49m\u001b[43m(\u001b[49m\u001b[43mmerged_experiment_web_data\u001b[49m\u001b[43m)\u001b[49m\n",
      "File \u001b[1;32mc:\\Users\\VSPC\\Documents\\GitHub\\New-Web-Study\\notebooks\\functions.py:109\u001b[0m, in \u001b[0;36mcalculate_conversion_and_dropout\u001b[1;34m(df)\u001b[0m\n\u001b[0;32m    105\u001b[0m     dropout_rate \u001b[38;5;241m=\u001b[39m \u001b[38;5;241m1\u001b[39m \u001b[38;5;241m-\u001b[39m (step_counts \u001b[38;5;241m/\u001b[39m step_counts\u001b[38;5;241m.\u001b[39msum())\n\u001b[0;32m    107\u001b[0m     \u001b[38;5;28;01mreturn\u001b[39;00m conversion_rate, dropout_rate\n\u001b[1;32m--> 109\u001b[0m conversion_rate_control, dropout_rate_control \u001b[38;5;241m=\u001b[39m \u001b[43mcalculate_conversion_and_dropout\u001b[49m\u001b[43m(\u001b[49m\u001b[43mdf_control\u001b[49m\u001b[43m)\u001b[49m\n\u001b[0;32m    111\u001b[0m conversion_rate_test, dropout_rate_test \u001b[38;5;241m=\u001b[39m calculate_conversion_and_dropout(df_test)\n\u001b[0;32m    114\u001b[0m \u001b[38;5;66;03m# Create DF\u001b[39;00m\n",
      "File \u001b[1;32mc:\\Users\\VSPC\\Documents\\GitHub\\New-Web-Study\\notebooks\\functions.py:102\u001b[0m, in \u001b[0;36mcalculate_conversion_and_dropout.<locals>.calculate_conversion_and_dropout\u001b[1;34m(df)\u001b[0m\n\u001b[0;32m     99\u001b[0m step_counts \u001b[38;5;241m=\u001b[39m df\u001b[38;5;241m.\u001b[39mgroupby(\u001b[38;5;124m'\u001b[39m\u001b[38;5;124mprocess_step\u001b[39m\u001b[38;5;124m'\u001b[39m)\u001b[38;5;241m.\u001b[39msize()\n\u001b[0;32m    101\u001b[0m \u001b[38;5;66;03m# Calculate conversion rate \u001b[39;00m\n\u001b[1;32m--> 102\u001b[0m conversion_rate \u001b[38;5;241m=\u001b[39m \u001b[43mstep_counts\u001b[49m\u001b[38;5;241;43m.\u001b[39;49m\u001b[43mcumsum\u001b[49m\u001b[43m(\u001b[49m\u001b[43m)\u001b[49m\u001b[38;5;241;43m.\u001b[39;49m\u001b[43mapply\u001b[49m\u001b[43m(\u001b[49m\u001b[38;5;28;43;01mlambda\u001b[39;49;00m\u001b[43m \u001b[49m\u001b[43mx\u001b[49m\u001b[43m:\u001b[49m\u001b[43m \u001b[49m\u001b[43m(\u001b[49m\u001b[43mx\u001b[49m\u001b[43m \u001b[49m\u001b[38;5;241;43m/\u001b[39;49m\u001b[43m \u001b[49m\u001b[43mx\u001b[49m\u001b[38;5;241;43m.\u001b[39;49m\u001b[43mmax\u001b[49m\u001b[43m(\u001b[49m\u001b[43m)\u001b[49m\u001b[43m)\u001b[49m\u001b[43m \u001b[49m\u001b[38;5;241;43m*\u001b[39;49m\u001b[43m \u001b[49m\u001b[38;5;241;43m100\u001b[39;49m\u001b[43m)\u001b[49m\n\u001b[0;32m    104\u001b[0m \u001b[38;5;66;03m# Calculate dropout rate\u001b[39;00m\n\u001b[0;32m    105\u001b[0m dropout_rate \u001b[38;5;241m=\u001b[39m \u001b[38;5;241m1\u001b[39m \u001b[38;5;241m-\u001b[39m (step_counts \u001b[38;5;241m/\u001b[39m step_counts\u001b[38;5;241m.\u001b[39msum())\n",
      "File \u001b[1;32mc:\\Users\\VSPC\\Documents\\GitHub\\New-Web-Study\\env\\lib\\site-packages\\pandas\\core\\series.py:4924\u001b[0m, in \u001b[0;36mSeries.apply\u001b[1;34m(self, func, convert_dtype, args, by_row, **kwargs)\u001b[0m\n\u001b[0;32m   4789\u001b[0m \u001b[38;5;28;01mdef\u001b[39;00m \u001b[38;5;21mapply\u001b[39m(\n\u001b[0;32m   4790\u001b[0m     \u001b[38;5;28mself\u001b[39m,\n\u001b[0;32m   4791\u001b[0m     func: AggFuncType,\n\u001b[1;32m   (...)\u001b[0m\n\u001b[0;32m   4796\u001b[0m     \u001b[38;5;241m*\u001b[39m\u001b[38;5;241m*\u001b[39mkwargs,\n\u001b[0;32m   4797\u001b[0m ) \u001b[38;5;241m-\u001b[39m\u001b[38;5;241m>\u001b[39m DataFrame \u001b[38;5;241m|\u001b[39m Series:\n\u001b[0;32m   4798\u001b[0m \u001b[38;5;250m    \u001b[39m\u001b[38;5;124;03m\"\"\"\u001b[39;00m\n\u001b[0;32m   4799\u001b[0m \u001b[38;5;124;03m    Invoke function on values of Series.\u001b[39;00m\n\u001b[0;32m   4800\u001b[0m \n\u001b[1;32m   (...)\u001b[0m\n\u001b[0;32m   4915\u001b[0m \u001b[38;5;124;03m    dtype: float64\u001b[39;00m\n\u001b[0;32m   4916\u001b[0m \u001b[38;5;124;03m    \"\"\"\u001b[39;00m\n\u001b[0;32m   4917\u001b[0m     \u001b[38;5;28;01mreturn\u001b[39;00m \u001b[43mSeriesApply\u001b[49m\u001b[43m(\u001b[49m\n\u001b[0;32m   4918\u001b[0m \u001b[43m        \u001b[49m\u001b[38;5;28;43mself\u001b[39;49m\u001b[43m,\u001b[49m\n\u001b[0;32m   4919\u001b[0m \u001b[43m        \u001b[49m\u001b[43mfunc\u001b[49m\u001b[43m,\u001b[49m\n\u001b[0;32m   4920\u001b[0m \u001b[43m        \u001b[49m\u001b[43mconvert_dtype\u001b[49m\u001b[38;5;241;43m=\u001b[39;49m\u001b[43mconvert_dtype\u001b[49m\u001b[43m,\u001b[49m\n\u001b[0;32m   4921\u001b[0m \u001b[43m        \u001b[49m\u001b[43mby_row\u001b[49m\u001b[38;5;241;43m=\u001b[39;49m\u001b[43mby_row\u001b[49m\u001b[43m,\u001b[49m\n\u001b[0;32m   4922\u001b[0m \u001b[43m        \u001b[49m\u001b[43margs\u001b[49m\u001b[38;5;241;43m=\u001b[39;49m\u001b[43margs\u001b[49m\u001b[43m,\u001b[49m\n\u001b[0;32m   4923\u001b[0m \u001b[43m        \u001b[49m\u001b[43mkwargs\u001b[49m\u001b[38;5;241;43m=\u001b[39;49m\u001b[43mkwargs\u001b[49m\u001b[43m,\u001b[49m\n\u001b[1;32m-> 4924\u001b[0m \u001b[43m    \u001b[49m\u001b[43m)\u001b[49m\u001b[38;5;241;43m.\u001b[39;49m\u001b[43mapply\u001b[49m\u001b[43m(\u001b[49m\u001b[43m)\u001b[49m\n",
      "File \u001b[1;32mc:\\Users\\VSPC\\Documents\\GitHub\\New-Web-Study\\env\\lib\\site-packages\\pandas\\core\\apply.py:1427\u001b[0m, in \u001b[0;36mSeriesApply.apply\u001b[1;34m(self)\u001b[0m\n\u001b[0;32m   1424\u001b[0m     \u001b[38;5;28;01mreturn\u001b[39;00m \u001b[38;5;28mself\u001b[39m\u001b[38;5;241m.\u001b[39mapply_compat()\n\u001b[0;32m   1426\u001b[0m \u001b[38;5;66;03m# self.func is Callable\u001b[39;00m\n\u001b[1;32m-> 1427\u001b[0m \u001b[38;5;28;01mreturn\u001b[39;00m \u001b[38;5;28;43mself\u001b[39;49m\u001b[38;5;241;43m.\u001b[39;49m\u001b[43mapply_standard\u001b[49m\u001b[43m(\u001b[49m\u001b[43m)\u001b[49m\n",
      "File \u001b[1;32mc:\\Users\\VSPC\\Documents\\GitHub\\New-Web-Study\\env\\lib\\site-packages\\pandas\\core\\apply.py:1507\u001b[0m, in \u001b[0;36mSeriesApply.apply_standard\u001b[1;34m(self)\u001b[0m\n\u001b[0;32m   1501\u001b[0m \u001b[38;5;66;03m# row-wise access\u001b[39;00m\n\u001b[0;32m   1502\u001b[0m \u001b[38;5;66;03m# apply doesn't have a `na_action` keyword and for backward compat reasons\u001b[39;00m\n\u001b[0;32m   1503\u001b[0m \u001b[38;5;66;03m# we need to give `na_action=\"ignore\"` for categorical data.\u001b[39;00m\n\u001b[0;32m   1504\u001b[0m \u001b[38;5;66;03m# TODO: remove the `na_action=\"ignore\"` when that default has been changed in\u001b[39;00m\n\u001b[0;32m   1505\u001b[0m \u001b[38;5;66;03m#  Categorical (GH51645).\u001b[39;00m\n\u001b[0;32m   1506\u001b[0m action \u001b[38;5;241m=\u001b[39m \u001b[38;5;124m\"\u001b[39m\u001b[38;5;124mignore\u001b[39m\u001b[38;5;124m\"\u001b[39m \u001b[38;5;28;01mif\u001b[39;00m \u001b[38;5;28misinstance\u001b[39m(obj\u001b[38;5;241m.\u001b[39mdtype, CategoricalDtype) \u001b[38;5;28;01melse\u001b[39;00m \u001b[38;5;28;01mNone\u001b[39;00m\n\u001b[1;32m-> 1507\u001b[0m mapped \u001b[38;5;241m=\u001b[39m \u001b[43mobj\u001b[49m\u001b[38;5;241;43m.\u001b[39;49m\u001b[43m_map_values\u001b[49m\u001b[43m(\u001b[49m\n\u001b[0;32m   1508\u001b[0m \u001b[43m    \u001b[49m\u001b[43mmapper\u001b[49m\u001b[38;5;241;43m=\u001b[39;49m\u001b[43mcurried\u001b[49m\u001b[43m,\u001b[49m\u001b[43m \u001b[49m\u001b[43mna_action\u001b[49m\u001b[38;5;241;43m=\u001b[39;49m\u001b[43maction\u001b[49m\u001b[43m,\u001b[49m\u001b[43m \u001b[49m\u001b[43mconvert\u001b[49m\u001b[38;5;241;43m=\u001b[39;49m\u001b[38;5;28;43mself\u001b[39;49m\u001b[38;5;241;43m.\u001b[39;49m\u001b[43mconvert_dtype\u001b[49m\n\u001b[0;32m   1509\u001b[0m \u001b[43m\u001b[49m\u001b[43m)\u001b[49m\n\u001b[0;32m   1511\u001b[0m \u001b[38;5;28;01mif\u001b[39;00m \u001b[38;5;28mlen\u001b[39m(mapped) \u001b[38;5;129;01mand\u001b[39;00m \u001b[38;5;28misinstance\u001b[39m(mapped[\u001b[38;5;241m0\u001b[39m], ABCSeries):\n\u001b[0;32m   1512\u001b[0m     \u001b[38;5;66;03m# GH#43986 Need to do list(mapped) in order to get treated as nested\u001b[39;00m\n\u001b[0;32m   1513\u001b[0m     \u001b[38;5;66;03m#  See also GH#25959 regarding EA support\u001b[39;00m\n\u001b[0;32m   1514\u001b[0m     \u001b[38;5;28;01mreturn\u001b[39;00m obj\u001b[38;5;241m.\u001b[39m_constructor_expanddim(\u001b[38;5;28mlist\u001b[39m(mapped), index\u001b[38;5;241m=\u001b[39mobj\u001b[38;5;241m.\u001b[39mindex)\n",
      "File \u001b[1;32mc:\\Users\\VSPC\\Documents\\GitHub\\New-Web-Study\\env\\lib\\site-packages\\pandas\\core\\base.py:921\u001b[0m, in \u001b[0;36mIndexOpsMixin._map_values\u001b[1;34m(self, mapper, na_action, convert)\u001b[0m\n\u001b[0;32m    918\u001b[0m \u001b[38;5;28;01mif\u001b[39;00m \u001b[38;5;28misinstance\u001b[39m(arr, ExtensionArray):\n\u001b[0;32m    919\u001b[0m     \u001b[38;5;28;01mreturn\u001b[39;00m arr\u001b[38;5;241m.\u001b[39mmap(mapper, na_action\u001b[38;5;241m=\u001b[39mna_action)\n\u001b[1;32m--> 921\u001b[0m \u001b[38;5;28;01mreturn\u001b[39;00m \u001b[43malgorithms\u001b[49m\u001b[38;5;241;43m.\u001b[39;49m\u001b[43mmap_array\u001b[49m\u001b[43m(\u001b[49m\u001b[43marr\u001b[49m\u001b[43m,\u001b[49m\u001b[43m \u001b[49m\u001b[43mmapper\u001b[49m\u001b[43m,\u001b[49m\u001b[43m \u001b[49m\u001b[43mna_action\u001b[49m\u001b[38;5;241;43m=\u001b[39;49m\u001b[43mna_action\u001b[49m\u001b[43m,\u001b[49m\u001b[43m \u001b[49m\u001b[43mconvert\u001b[49m\u001b[38;5;241;43m=\u001b[39;49m\u001b[43mconvert\u001b[49m\u001b[43m)\u001b[49m\n",
      "File \u001b[1;32mc:\\Users\\VSPC\\Documents\\GitHub\\New-Web-Study\\env\\lib\\site-packages\\pandas\\core\\algorithms.py:1743\u001b[0m, in \u001b[0;36mmap_array\u001b[1;34m(arr, mapper, na_action, convert)\u001b[0m\n\u001b[0;32m   1741\u001b[0m values \u001b[38;5;241m=\u001b[39m arr\u001b[38;5;241m.\u001b[39mastype(\u001b[38;5;28mobject\u001b[39m, copy\u001b[38;5;241m=\u001b[39m\u001b[38;5;28;01mFalse\u001b[39;00m)\n\u001b[0;32m   1742\u001b[0m \u001b[38;5;28;01mif\u001b[39;00m na_action \u001b[38;5;129;01mis\u001b[39;00m \u001b[38;5;28;01mNone\u001b[39;00m:\n\u001b[1;32m-> 1743\u001b[0m     \u001b[38;5;28;01mreturn\u001b[39;00m \u001b[43mlib\u001b[49m\u001b[38;5;241;43m.\u001b[39;49m\u001b[43mmap_infer\u001b[49m\u001b[43m(\u001b[49m\u001b[43mvalues\u001b[49m\u001b[43m,\u001b[49m\u001b[43m \u001b[49m\u001b[43mmapper\u001b[49m\u001b[43m,\u001b[49m\u001b[43m \u001b[49m\u001b[43mconvert\u001b[49m\u001b[38;5;241;43m=\u001b[39;49m\u001b[43mconvert\u001b[49m\u001b[43m)\u001b[49m\n\u001b[0;32m   1744\u001b[0m \u001b[38;5;28;01melse\u001b[39;00m:\n\u001b[0;32m   1745\u001b[0m     \u001b[38;5;28;01mreturn\u001b[39;00m lib\u001b[38;5;241m.\u001b[39mmap_infer_mask(\n\u001b[0;32m   1746\u001b[0m         values, mapper, mask\u001b[38;5;241m=\u001b[39misna(values)\u001b[38;5;241m.\u001b[39mview(np\u001b[38;5;241m.\u001b[39muint8), convert\u001b[38;5;241m=\u001b[39mconvert\n\u001b[0;32m   1747\u001b[0m     )\n",
      "File \u001b[1;32mlib.pyx:2972\u001b[0m, in \u001b[0;36mpandas._libs.lib.map_infer\u001b[1;34m()\u001b[0m\n",
      "File \u001b[1;32mc:\\Users\\VSPC\\Documents\\GitHub\\New-Web-Study\\notebooks\\functions.py:102\u001b[0m, in \u001b[0;36mcalculate_conversion_and_dropout.<locals>.calculate_conversion_and_dropout.<locals>.<lambda>\u001b[1;34m(x)\u001b[0m\n\u001b[0;32m     99\u001b[0m step_counts \u001b[38;5;241m=\u001b[39m df\u001b[38;5;241m.\u001b[39mgroupby(\u001b[38;5;124m'\u001b[39m\u001b[38;5;124mprocess_step\u001b[39m\u001b[38;5;124m'\u001b[39m)\u001b[38;5;241m.\u001b[39msize()\n\u001b[0;32m    101\u001b[0m \u001b[38;5;66;03m# Calculate conversion rate \u001b[39;00m\n\u001b[1;32m--> 102\u001b[0m conversion_rate \u001b[38;5;241m=\u001b[39m step_counts\u001b[38;5;241m.\u001b[39mcumsum()\u001b[38;5;241m.\u001b[39mapply(\u001b[38;5;28;01mlambda\u001b[39;00m x: (x \u001b[38;5;241m/\u001b[39m \u001b[43mx\u001b[49m\u001b[38;5;241;43m.\u001b[39;49m\u001b[43mmax\u001b[49m()) \u001b[38;5;241m*\u001b[39m \u001b[38;5;241m100\u001b[39m)\n\u001b[0;32m    104\u001b[0m \u001b[38;5;66;03m# Calculate dropout rate\u001b[39;00m\n\u001b[0;32m    105\u001b[0m dropout_rate \u001b[38;5;241m=\u001b[39m \u001b[38;5;241m1\u001b[39m \u001b[38;5;241m-\u001b[39m (step_counts \u001b[38;5;241m/\u001b[39m step_counts\u001b[38;5;241m.\u001b[39msum())\n",
      "\u001b[1;31mAttributeError\u001b[0m: 'int' object has no attribute 'max'"
     ]
    }
   ],
   "source": [
    "conversion_dropout_control = calculate_conversion_and_dropout_control(merged_experiment_web_data)\n",
    "\n",
    "conversion_dropout_control"
   ]
  },
  {
   "cell_type": "code",
   "execution_count": null,
   "metadata": {},
   "outputs": [],
   "source": [
    "conversion_dropout_test = calculate_conversion_and_dropout_test(merged_experiment_web_data)\n",
    "\n",
    "conversion_dropout_test"
   ]
  },
  {
   "cell_type": "markdown",
   "metadata": {},
   "source": [
    "### Avg time per step"
   ]
  },
  {
   "cell_type": "code",
   "execution_count": 31,
   "metadata": {},
   "outputs": [
    {
     "data": {
      "text/html": [
       "<div>\n",
       "<style scoped>\n",
       "    .dataframe tbody tr th:only-of-type {\n",
       "        vertical-align: middle;\n",
       "    }\n",
       "\n",
       "    .dataframe tbody tr th {\n",
       "        vertical-align: top;\n",
       "    }\n",
       "\n",
       "    .dataframe thead th {\n",
       "        text-align: right;\n",
       "    }\n",
       "</style>\n",
       "<table border=\"1\" class=\"dataframe\">\n",
       "  <thead>\n",
       "    <tr style=\"text-align: right;\">\n",
       "      <th></th>\n",
       "      <th>Control</th>\n",
       "      <th>Test</th>\n",
       "    </tr>\n",
       "  </thead>\n",
       "  <tbody>\n",
       "    <tr>\n",
       "      <th>step 1</th>\n",
       "      <td>41.574446</td>\n",
       "      <td>91.661972</td>\n",
       "    </tr>\n",
       "    <tr>\n",
       "      <th>step 2</th>\n",
       "      <td>56.368380</td>\n",
       "      <td>84.516290</td>\n",
       "    </tr>\n",
       "    <tr>\n",
       "      <th>step 3</th>\n",
       "      <td>124.736358</td>\n",
       "      <td>130.917526</td>\n",
       "    </tr>\n",
       "    <tr>\n",
       "      <th>confirm</th>\n",
       "      <td>416.735079</td>\n",
       "      <td>548.895847</td>\n",
       "    </tr>\n",
       "  </tbody>\n",
       "</table>\n",
       "</div>"
      ],
      "text/plain": [
       "            Control        Test\n",
       "step 1    41.574446   91.661972\n",
       "step 2    56.368380   84.516290\n",
       "step 3   124.736358  130.917526\n",
       "confirm  416.735079  548.895847"
      ]
     },
     "execution_count": 31,
     "metadata": {},
     "output_type": "execute_result"
    }
   ],
   "source": [
    "avg_time_per_step = calculate_avg_time_per_step(merged_experiment_web_data)\n",
    "\n",
    "avg_time_per_step\n",
    "\n"
   ]
  }
 ],
 "metadata": {
  "kernelspec": {
   "display_name": "env",
   "language": "python",
   "name": "python3"
  },
  "language_info": {
   "codemirror_mode": {
    "name": "ipython",
    "version": 3
   },
   "file_extension": ".py",
   "mimetype": "text/x-python",
   "name": "python",
   "nbconvert_exporter": "python",
   "pygments_lexer": "ipython3",
   "version": "3.10.11"
  }
 },
 "nbformat": 4,
 "nbformat_minor": 2
}
