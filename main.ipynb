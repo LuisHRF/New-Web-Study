{
 "cells": [
  {
   "cell_type": "code",
   "execution_count": 1,
   "metadata": {},
   "outputs": [],
   "source": [
    "import pandas as pd\n",
    "import numpy as np\n",
    "import matplotlib as plt\n",
    "import seaborn\n",
    "from functions import *"
   ]
  },
  {
   "cell_type": "code",
   "execution_count": 2,
   "metadata": {},
   "outputs": [],
   "source": [
    "url1 = 'data/df_final_demo.txt'\n",
    "url2 = 'data/df_final_experiment_clients.txt'\n",
    "url3 = 'data/df_final_web_data_pt_1.txt'\n",
    "url4 = 'data/df_final_web_data_pt_2.txt'\n",
    "\n",
    "df_final_demo = pd.read_csv(url1)\n",
    "df_final_experiment_clients = pd.read_csv(url2)\n",
    "df_web_data_1 = pd.read_csv(url3)\n",
    "df_web_data_2 = pd.read_csv(url4)\n"
   ]
  },
  {
   "cell_type": "code",
   "execution_count": 3,
   "metadata": {},
   "outputs": [
    {
     "data": {
      "text/html": [
       "<div>\n",
       "<style scoped>\n",
       "    .dataframe tbody tr th:only-of-type {\n",
       "        vertical-align: middle;\n",
       "    }\n",
       "\n",
       "    .dataframe tbody tr th {\n",
       "        vertical-align: top;\n",
       "    }\n",
       "\n",
       "    .dataframe thead th {\n",
       "        text-align: right;\n",
       "    }\n",
       "</style>\n",
       "<table border=\"1\" class=\"dataframe\">\n",
       "  <thead>\n",
       "    <tr style=\"text-align: right;\">\n",
       "      <th></th>\n",
       "      <th>client_id</th>\n",
       "      <th>clnt_tenure_yr</th>\n",
       "      <th>clnt_tenure_mnth</th>\n",
       "      <th>clnt_age</th>\n",
       "      <th>gendr</th>\n",
       "      <th>num_accts</th>\n",
       "      <th>bal</th>\n",
       "      <th>calls_6_mnth</th>\n",
       "      <th>logons_6_mnth</th>\n",
       "    </tr>\n",
       "  </thead>\n",
       "  <tbody>\n",
       "    <tr>\n",
       "      <th>0</th>\n",
       "      <td>836976</td>\n",
       "      <td>6.0</td>\n",
       "      <td>73.0</td>\n",
       "      <td>60.5</td>\n",
       "      <td>U</td>\n",
       "      <td>2.0</td>\n",
       "      <td>45105.30</td>\n",
       "      <td>6.0</td>\n",
       "      <td>9.0</td>\n",
       "    </tr>\n",
       "    <tr>\n",
       "      <th>1</th>\n",
       "      <td>2304905</td>\n",
       "      <td>7.0</td>\n",
       "      <td>94.0</td>\n",
       "      <td>58.0</td>\n",
       "      <td>U</td>\n",
       "      <td>2.0</td>\n",
       "      <td>110860.30</td>\n",
       "      <td>6.0</td>\n",
       "      <td>9.0</td>\n",
       "    </tr>\n",
       "    <tr>\n",
       "      <th>2</th>\n",
       "      <td>1439522</td>\n",
       "      <td>5.0</td>\n",
       "      <td>64.0</td>\n",
       "      <td>32.0</td>\n",
       "      <td>U</td>\n",
       "      <td>2.0</td>\n",
       "      <td>52467.79</td>\n",
       "      <td>6.0</td>\n",
       "      <td>9.0</td>\n",
       "    </tr>\n",
       "    <tr>\n",
       "      <th>3</th>\n",
       "      <td>1562045</td>\n",
       "      <td>16.0</td>\n",
       "      <td>198.0</td>\n",
       "      <td>49.0</td>\n",
       "      <td>M</td>\n",
       "      <td>2.0</td>\n",
       "      <td>67454.65</td>\n",
       "      <td>3.0</td>\n",
       "      <td>6.0</td>\n",
       "    </tr>\n",
       "    <tr>\n",
       "      <th>4</th>\n",
       "      <td>5126305</td>\n",
       "      <td>12.0</td>\n",
       "      <td>145.0</td>\n",
       "      <td>33.0</td>\n",
       "      <td>F</td>\n",
       "      <td>2.0</td>\n",
       "      <td>103671.75</td>\n",
       "      <td>0.0</td>\n",
       "      <td>3.0</td>\n",
       "    </tr>\n",
       "  </tbody>\n",
       "</table>\n",
       "</div>"
      ],
      "text/plain": [
       "   client_id  clnt_tenure_yr  clnt_tenure_mnth  clnt_age gendr  num_accts  \\\n",
       "0     836976             6.0              73.0      60.5     U        2.0   \n",
       "1    2304905             7.0              94.0      58.0     U        2.0   \n",
       "2    1439522             5.0              64.0      32.0     U        2.0   \n",
       "3    1562045            16.0             198.0      49.0     M        2.0   \n",
       "4    5126305            12.0             145.0      33.0     F        2.0   \n",
       "\n",
       "         bal  calls_6_mnth  logons_6_mnth  \n",
       "0   45105.30           6.0            9.0  \n",
       "1  110860.30           6.0            9.0  \n",
       "2   52467.79           6.0            9.0  \n",
       "3   67454.65           3.0            6.0  \n",
       "4  103671.75           0.0            3.0  "
      ]
     },
     "execution_count": 3,
     "metadata": {},
     "output_type": "execute_result"
    }
   ],
   "source": [
    "df_final_demo.head(5)"
   ]
  },
  {
   "cell_type": "code",
   "execution_count": 4,
   "metadata": {},
   "outputs": [
    {
     "data": {
      "text/html": [
       "<div>\n",
       "<style scoped>\n",
       "    .dataframe tbody tr th:only-of-type {\n",
       "        vertical-align: middle;\n",
       "    }\n",
       "\n",
       "    .dataframe tbody tr th {\n",
       "        vertical-align: top;\n",
       "    }\n",
       "\n",
       "    .dataframe thead th {\n",
       "        text-align: right;\n",
       "    }\n",
       "</style>\n",
       "<table border=\"1\" class=\"dataframe\">\n",
       "  <thead>\n",
       "    <tr style=\"text-align: right;\">\n",
       "      <th></th>\n",
       "      <th>client_id</th>\n",
       "      <th>Variation</th>\n",
       "    </tr>\n",
       "  </thead>\n",
       "  <tbody>\n",
       "    <tr>\n",
       "      <th>70604</th>\n",
       "      <td>2443347</td>\n",
       "      <td>NaN</td>\n",
       "    </tr>\n",
       "    <tr>\n",
       "      <th>70605</th>\n",
       "      <td>8788427</td>\n",
       "      <td>NaN</td>\n",
       "    </tr>\n",
       "    <tr>\n",
       "      <th>70606</th>\n",
       "      <td>266828</td>\n",
       "      <td>NaN</td>\n",
       "    </tr>\n",
       "    <tr>\n",
       "      <th>70607</th>\n",
       "      <td>1266421</td>\n",
       "      <td>NaN</td>\n",
       "    </tr>\n",
       "    <tr>\n",
       "      <th>70608</th>\n",
       "      <td>9895983</td>\n",
       "      <td>NaN</td>\n",
       "    </tr>\n",
       "  </tbody>\n",
       "</table>\n",
       "</div>"
      ],
      "text/plain": [
       "       client_id Variation\n",
       "70604    2443347       NaN\n",
       "70605    8788427       NaN\n",
       "70606     266828       NaN\n",
       "70607    1266421       NaN\n",
       "70608    9895983       NaN"
      ]
     },
     "execution_count": 4,
     "metadata": {},
     "output_type": "execute_result"
    }
   ],
   "source": [
    "df_final_experiment_clients.tail(5)"
   ]
  },
  {
   "cell_type": "code",
   "execution_count": 5,
   "metadata": {},
   "outputs": [
    {
     "data": {
      "text/plain": [
       "{'Commons ID': 70609, 'Demo ID': 0, 'Exp ID': 0}"
      ]
     },
     "execution_count": 5,
     "metadata": {},
     "output_type": "execute_result"
    }
   ],
   "source": [
    "# Create list with client_id for compare each df\n",
    "\n",
    "list_id_final_demo = df_final_demo['client_id']\n",
    "\n",
    "list_id_final_exp = df_final_experiment_clients['client_id']\n",
    "\n",
    "common_clients_id = set(list_id_final_demo).intersection(set(list_id_final_exp))\n",
    "demo_clients_id = set(list_id_final_demo).difference(set(list_id_final_exp))\n",
    "exp_clients_id = set(list_id_final_exp).difference(set(list_id_final_demo))\n",
    "\n",
    "{\n",
    "    \"Commons ID\": len(common_clients_id),\n",
    "    \"Demo ID\": len(demo_clients_id),\n",
    "    \"Exp ID\": len(exp_clients_id)\n",
    "}\n"
   ]
  },
  {
   "cell_type": "code",
   "execution_count": 6,
   "metadata": {},
   "outputs": [
    {
     "data": {
      "text/plain": [
       "(       client_id Variation\n",
       " 70599    5217934       NaN\n",
       " 70600    1020453       NaN\n",
       " 70601    9722009       NaN\n",
       " 70602    3897324       NaN\n",
       " 70603     687702       NaN\n",
       " 70604    2443347       NaN\n",
       " 70605    8788427       NaN\n",
       " 70606     266828       NaN\n",
       " 70607    1266421       NaN\n",
       " 70608    9895983       NaN,\n",
       " 20109)"
      ]
     },
     "execution_count": 6,
     "metadata": {},
     "output_type": "execute_result"
    }
   ],
   "source": [
    "## Searching Nan Values in Variaton\n",
    "\n",
    "nan_var = df_final_experiment_clients[df_final_experiment_clients['Variation'].isna()]\n",
    "\n",
    "nan_var_count = nan_var.shape[0]\n",
    "nan_var.tail(10), nan_var_count # 20109 NaN\n"
   ]
  },
  {
   "cell_type": "code",
   "execution_count": 7,
   "metadata": {},
   "outputs": [
    {
     "data": {
      "text/plain": [
       "(70609, 2)"
      ]
     },
     "execution_count": 7,
     "metadata": {},
     "output_type": "execute_result"
    }
   ],
   "source": [
    "df_final_experiment_clients['Variation'].value_counts()\n",
    "\n",
    "df_final_experiment_clients.shape"
   ]
  },
  {
   "cell_type": "code",
   "execution_count": 8,
   "metadata": {},
   "outputs": [
    {
     "data": {
      "text/plain": [
       "20109"
      ]
     },
     "execution_count": 8,
     "metadata": {},
     "output_type": "execute_result"
    }
   ],
   "source": [
    "## Check the clients_id on web_data\n",
    "\n",
    "temp_web_data = pd.concat([df_web_data_1, df_web_data_2], ignore_index=True)\n",
    "\n",
    "nan_var_id = nan_var['client_id']\n",
    "clients_id_web = temp_web_data[temp_web_data['client_id'].isin(nan_var_id)]\n",
    "\n",
    "clients_id_web['client_id'].nunique() ## The NaN ID exists on Web Data\n",
    "\n"
   ]
  },
  {
   "cell_type": "code",
   "execution_count": 9,
   "metadata": {},
   "outputs": [
    {
     "data": {
      "text/plain": [
       "((755405, 5), 755405)"
      ]
     },
     "execution_count": 9,
     "metadata": {},
     "output_type": "execute_result"
    }
   ],
   "source": [
    "total_rows_web = len(df_web_data_1['client_id']) + len(df_web_data_2['client_id'])\n",
    "temp_web_data.shape, total_rows_web"
   ]
  },
  {
   "cell_type": "code",
   "execution_count": 10,
   "metadata": {},
   "outputs": [
    {
     "data": {
      "text/plain": [
       "Variation\n",
       "Test       177847\n",
       "Control    143462\n",
       "Name: count, dtype: int64"
      ]
     },
     "execution_count": 10,
     "metadata": {},
     "output_type": "execute_result"
    }
   ],
   "source": [
    "merged_web_data = pd.merge(\n",
    "    temp_web_data,\n",
    "    df_final_experiment_clients[['client_id', 'Variation']],\n",
    "    on = 'client_id',\n",
    "    how = 'left'\n",
    ")\n",
    "\n",
    "merged_web_data['Variation'].value_counts()"
   ]
  },
  {
   "cell_type": "markdown",
   "metadata": {},
   "source": [
    "## Try to substitute NaN for real Value"
   ]
  },
  {
   "cell_type": "code",
   "execution_count": 11,
   "metadata": {},
   "outputs": [
    {
     "data": {
      "text/plain": [
       "{'NaN Variation by steps:': process_step\n",
       " start      139863\n",
       " step_1      94757\n",
       " step_2      76187\n",
       " step_3      63553\n",
       " confirm     59736\n",
       " Name: count, dtype: int64,\n",
       " 'Control Variation by steps:': process_step\n",
       " start      47608\n",
       " step_1     29668\n",
       " step_2     25886\n",
       " step_3     22795\n",
       " confirm    17505\n",
       " Name: count, dtype: int64,\n",
       " 'Test Variation by steps:': process_step\n",
       " start      56474\n",
       " step_1     38768\n",
       " step_2     30989\n",
       " step_3     25894\n",
       " confirm    25722\n",
       " Name: count, dtype: int64}"
      ]
     },
     "execution_count": 11,
     "metadata": {},
     "output_type": "execute_result"
    }
   ],
   "source": [
    "merged_web_data['date_time'] = pd.to_datetime(merged_web_data['date_time'])\n",
    "\n",
    "nan_clients = merged_web_data[merged_web_data['Variation'].isna()]['client_id'].unique()\n",
    "\n",
    "nan_clients_web = merged_web_data[merged_web_data['client_id'].isin(nan_clients)]\n",
    "test_clients_web = merged_web_data[merged_web_data['Variation'] == 'Test']\n",
    "control_clients_web = merged_web_data[merged_web_data['Variation'] == 'Control']\n",
    "\n",
    "nan_steps = nan_clients_web['process_step'].value_counts()\n",
    "test_steps = test_clients_web['process_step'].value_counts()\n",
    "control_steps = control_clients_web['process_step'].value_counts()\n",
    "\n",
    "{\n",
    "   \"NaN Variation by steps:\": nan_steps,\n",
    "   \"Control Variation by steps:\": control_steps,\n",
    "   \"Test Variation by steps:\": test_steps,\n",
    "}"
   ]
  },
  {
   "cell_type": "code",
   "execution_count": 12,
   "metadata": {},
   "outputs": [
    {
     "data": {
      "text/plain": [
       "(np.float64(6.231907776677146),\n",
       " np.float64(6.096464388917219),\n",
       " np.float64(6.594741916345298))"
      ]
     },
     "execution_count": 12,
     "metadata": {},
     "output_type": "execute_result"
    }
   ],
   "source": [
    "nan_client_steps_mean = nan_clients_web.groupby('client_id')['process_step'].count().mean()\n",
    "control_client_steps_mean = control_clients_web.groupby('client_id')['process_step'].count().mean()\n",
    "test_client_steps_mean = test_clients_web.groupby('client_id')['process_step'].count().mean()\n",
    "\n",
    "nan_client_steps_mean, control_client_steps_mean, test_client_steps_mean"
   ]
  },
  {
   "cell_type": "markdown",
   "metadata": {},
   "source": [
    "No trend can be determined from the number of steps or the average. Let's look at the dates."
   ]
  },
  {
   "cell_type": "code",
   "execution_count": 13,
   "metadata": {},
   "outputs": [
    {
     "data": {
      "text/plain": [
       "(count                           434096\n",
       " mean     2017-05-21 03:57:17.316364800\n",
       " min                2017-03-15 00:03:03\n",
       " 25%      2017-05-07 13:22:22.750000128\n",
       " 50%                2017-06-01 11:05:00\n",
       " 75%                2017-06-07 17:39:11\n",
       " max                2017-06-20 23:59:57\n",
       " Name: date_time, dtype: object,\n",
       " 'Test-------',\n",
       " count                           177847\n",
       " mean     2017-04-18 07:31:33.564833536\n",
       " min                2017-03-15 00:43:23\n",
       " 25%         2017-04-03 17:29:01.500000\n",
       " 50%                2017-04-12 11:40:13\n",
       " 75%         2017-04-24 13:09:25.500000\n",
       " max                2017-06-20 23:21:23\n",
       " Name: date_time, dtype: object,\n",
       " 'Control-------',\n",
       " count                           143462\n",
       " mean     2017-04-22 06:20:59.694309376\n",
       " min                2017-03-15 00:19:28\n",
       " 25%      2017-04-05 11:23:32.249999872\n",
       " 50%         2017-04-12 21:17:38.500000\n",
       " 75%                2017-05-07 20:48:26\n",
       " max                2017-06-20 23:57:06\n",
       " Name: date_time, dtype: object)"
      ]
     },
     "execution_count": 13,
     "metadata": {},
     "output_type": "execute_result"
    }
   ],
   "source": [
    "\n",
    "\n",
    "test_client_datetime = merged_web_data[merged_web_data['Variation'] == 'Test']['date_time'].describe()\n",
    "control_client_datetime = merged_web_data[merged_web_data['Variation'] == 'Control']['date_time'].describe()\n",
    "nan_client_datetime = merged_web_data[merged_web_data['client_id'].isin(nan_clients)]['date_time'].describe()\n",
    "\n",
    "nan_client_datetime, 'Test-------', test_client_datetime, 'Control-------', control_client_datetime"
   ]
  },
  {
   "cell_type": "code",
   "execution_count": 14,
   "metadata": {},
   "outputs": [
    {
     "data": {
      "text/plain": [
       "client_id                int64\n",
       "visitor_id              object\n",
       "visit_id                object\n",
       "process_step            object\n",
       "date_time       datetime64[ns]\n",
       "Variation               object\n",
       "dtype: object"
      ]
     },
     "execution_count": 14,
     "metadata": {},
     "output_type": "execute_result"
    }
   ],
   "source": [
    "nan_clients_web.dtypes"
   ]
  },
  {
   "cell_type": "code",
   "execution_count": 15,
   "metadata": {},
   "outputs": [],
   "source": [
    "# Calculate session time per client\n",
    "nan_client_connection_time = nan_clients_web.groupby('client_id')['date_time'].apply(calc_connection_time)\n",
    "test_client_connection_time = test_clients_web.groupby('client_id')['date_time'].apply(calc_connection_time)\n",
    "control_client_connection_time = control_clients_web.groupby('client_id')['date_time'].apply(calc_connection_time)\n",
    "\n",
    "# Add to dataframe\n",
    "nan_clients_web = nan_clients_web.merge(nan_client_connection_time.rename('connection_time'), on='client_id')\n",
    "test_clients_web = test_clients_web.merge(test_client_connection_time.rename('connection_time'), on='client_id')\n",
    "control_clients_web = control_clients_web.merge(control_client_connection_time.rename('connection_time'), on='client_id')\n",
    "\n",
    "# Calculate mean time\n",
    "mean_test_connection = test_clients_web['connection_time'].mean()\n",
    "mean_control_connection = control_clients_web['connection_time'].mean()\n"
   ]
  },
  {
   "cell_type": "code",
   "execution_count": 17,
   "metadata": {},
   "outputs": [
    {
     "name": "stdout",
     "output_type": "stream",
     "text": [
      "Mean conection time (Test): 674133.1151158018\n",
      "Mean conection time (Control): 717933.5775466674\n"
     ]
    }
   ],
   "source": [
    "print(\"Mean conection time (Test):\", mean_test_connection)\n",
    "print(\"Mean conection time (Control):\", mean_control_connection)"
   ]
  },
  {
   "cell_type": "code",
   "execution_count": null,
   "metadata": {},
   "outputs": [],
   "source": [
    "steps_per_client = nan_clients_web.groupby('client_id')['process_step'].count().reset_index()\n",
    "steps_per_client.columns = ['client_id', 'step_count']\n",
    "\n",
    "nan_clients_web = nan_clients_web.merge(steps_per_client, on='client_id')"
   ]
  },
  {
   "cell_type": "code",
   "execution_count": 48,
   "metadata": {},
   "outputs": [
    {
     "name": "stdout",
     "output_type": "stream",
     "text": [
      "       similarity_test_steps  similarity_test_time\n",
      "count          434096.000000         434096.000000\n",
      "mean                0.597056              0.089405\n",
      "std                 0.319849              0.211994\n",
      "min                 0.000000              0.000000\n",
      "25%                 0.332004              0.000224\n",
      "50%                 0.758180              0.000533\n",
      "75%                 0.786912              0.002712\n",
      "max                 0.938548              0.999737\n"
     ]
    }
   ],
   "source": [
    "nan_clients_web['step_count'] = nan_clients_web.groupby('client_id')['process_step'].transform('count')\n",
    "\n",
    "# Calculate similarities based on completed steps\n",
    "\n",
    "nan_clients_web['similarity_test_steps'] = np.maximum(0, 1 - abs(nan_clients_web['step_count'] - test_client_steps_mean) / test_client_steps_mean)\n",
    "nan_clients_web['similarity_control_steps'] = np.maximum(0, 1 - abs(nan_clients_web['step_count'] - control_client_steps_mean) / control_client_steps_mean)\n",
    "\n",
    "# Calculate similarities based on completed time\n",
    "\n",
    "nan_clients_web['similarity_test_time'] = np.maximum(0, 1 - abs(nan_clients_web['connection_time'] - mean_test_connection) / mean_test_connection)\n",
    "nan_clients_web['similarity_control_time'] = np.maximum(0, 1 - abs(nan_clients_web['connection_time'] - mean_control_connection) / mean_control_connection)\n",
    "\n",
    "# Calculate prob based on steps and time\n",
    "nan_clients_web['test_probability'] = (nan_clients_web['similarity_test_steps'] + nan_clients_web['similarity_test_time']) / 2\n",
    "nan_clients_web['control_probability'] = 1 - nan_clients_web['test_probability']\n"
   ]
  },
  {
   "cell_type": "code",
   "execution_count": 49,
   "metadata": {},
   "outputs": [
    {
     "name": "stdout",
     "output_type": "stream",
     "text": [
      "assigned_group\n",
      "Control    398388\n",
      "Test        35708\n",
      "Name: count, dtype: int64\n"
     ]
    }
   ],
   "source": [
    "# Asign type of client by proximity\n",
    "nan_clients_web['assigned_group'] = np.where(nan_clients_web['test_probability'] > 0.5, 'Test', 'Control')\n",
    "\n",
    "# Results\n",
    "nan_clients_web[['client_id', 'test_probability', 'control_probability', 'assigned_group']]\n",
    "\n",
    "print(nan_clients_web['assigned_group'].value_counts())\n"
   ]
  },
  {
   "cell_type": "code",
   "execution_count": 50,
   "metadata": {},
   "outputs": [
    {
     "data": {
      "text/plain": [
       "(755405, 6)"
      ]
     },
     "execution_count": 50,
     "metadata": {},
     "output_type": "execute_result"
    }
   ],
   "source": [
    "merged_web_data.shape"
   ]
  },
  {
   "cell_type": "markdown",
   "metadata": {},
   "source": [
    "## Cositas de los testeos"
   ]
  },
  {
   "cell_type": "code",
   "execution_count": 16,
   "metadata": {},
   "outputs": [
    {
     "data": {
      "text/plain": [
       "np.int64(50500)"
      ]
     },
     "execution_count": 16,
     "metadata": {},
     "output_type": "execute_result"
    }
   ],
   "source": [
    "confirmation_complete = merged_web_data[merged_web_data['process_step'] == 'confirm']\n",
    "\n",
    "conversion_counts = confirmation_complete.groupby('Variation')['client_id'].nunique()\n",
    "\n",
    "total_clients = merged_web_data.groupby('Variation')['client_id'].nunique()\n",
    "\n",
    "total_clients.sum()\n"
   ]
  }
 ],
 "metadata": {
  "kernelspec": {
   "display_name": "env",
   "language": "python",
   "name": "python3"
  },
  "language_info": {
   "codemirror_mode": {
    "name": "ipython",
    "version": 3
   },
   "file_extension": ".py",
   "mimetype": "text/x-python",
   "name": "python",
   "nbconvert_exporter": "python",
   "pygments_lexer": "ipython3",
   "version": "3.10.11"
  }
 },
 "nbformat": 4,
 "nbformat_minor": 2
}
